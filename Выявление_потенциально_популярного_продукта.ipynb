{
  "cells": [
    {
      "cell_type": "markdown",
      "metadata": {
        "id": "view-in-github",
        "colab_type": "text"
      },
      "source": [
        "<a href=\"https://colab.research.google.com/github/Viksilio/Analist/blob/main/%D0%92%D1%8B%D1%8F%D0%B2%D0%BB%D0%B5%D0%BD%D0%B8%D0%B5_%D0%BF%D0%BE%D1%82%D0%B5%D0%BD%D1%86%D0%B8%D0%B0%D0%BB%D1%8C%D0%BD%D0%BE_%D0%BF%D0%BE%D0%BF%D1%83%D0%BB%D1%8F%D1%80%D0%BD%D0%BE%D0%B3%D0%BE_%D0%BF%D1%80%D0%BE%D0%B4%D1%83%D0%BA%D1%82%D0%B0.ipynb\" target=\"_parent\"><img src=\"https://colab.research.google.com/assets/colab-badge.svg\" alt=\"Open In Colab\"/></a>"
      ]
    },
    {
      "cell_type": "markdown",
      "metadata": {
        "id": "Teqh7DeUw9j1"
      },
      "source": [
        "## Описание проекта\n",
        "\n",
        "Вы работаете в интернет-магазине «Стримчик», который продаёт по всему миру компьютерные игры. Из открытых источников доступны исторические данные о продажах игр, оценки пользователей и экспертов, жанры и платформы (например, Xbox или PlayStation). Вам нужно выявить определяющие успешность игры закономерности. Это позволит сделать ставку на потенциально популярный продукт и спланировать рекламные кампании.\n",
        "Перед вами данные до 2016 года. Представим, что сейчас декабрь 2016 г., и вы планируете кампанию на 2017-й. Нужно отработать принцип работы с данными. Неважно, прогнозируете ли вы продажи на 2017 год по данным 2016-го или же 2027-й — по данным 2026 года.\n",
        "В наборе данных попадается аббревиатура ESRB (Entertainment Software Rating Board) — это ассоциация, определяющая возрастной рейтинг компьютерных игр. ESRB оценивает игровой контент и присваивает ему подходящую возрастную категорию, например, «Для взрослых», «Для детей младшего возраста» или «Для подростков».\n",
        "\n",
        "## Цель проекта\n",
        "\n",
        "Выявить потенциально популярный продукт для планирования рекламной компании интернет-магазина\n",
        "\n",
        "## Задачи\n",
        "\n",
        "### Открыть файл с данными и изучить общую информацию\n",
        "\n",
        "### Подготовить данные\n",
        "\n",
        "* Заменить названия столбцов (приведите к нижнему регистру);\n",
        "* Преобразовать данные в нужные типы;\n",
        "* Обработать пропуски при необходимости:\n",
        "* Описать причины, которые могли привести к пропускам;\n",
        "* Обратите внимание на аббревиатуру 'tbd' в столбце с оценкой пользователей. Отдельно разобрать это значение и описать, как его обработать;\n",
        "* Посчитать суммарные продажи во всех регионах и записать их в отдельный столбец.\n",
        "\n",
        "### Провести исследовательский анализ данных\n",
        "\n",
        "* Посмотреть, сколько игр выпускалось в разные годы. Важны ли данные за все периоды?\n",
        "* Посмотреть, как менялись продажи по платформам. Выберите платформы с наибольшими суммарными продажами и постройте распределение по годам. За какой характерный срок появляются новые и исчезают старые платформы?\n",
        "* Взять данные за соответствующий актуальный период. Актуальный период определить самостоятельно в результате исследования предыдущих вопросов. Основной фактор — эти данные помогут построить прогноз на 2017 год.\n",
        "* Не учитывать в работе данные за предыдущие годы.\n",
        "* Какие платформы лидируют по продажам, растут или падают? Выбрать несколько потенциально прибыльных платформ.\n",
        "* Построить график «ящик с усами» по глобальным продажам игр в разбивке по платформам. Описать результат.\n",
        "* Посмотреть, как влияют на продажи внутри одной популярной платформы отзывы пользователей и критиков. Постройте диаграмму рассеяния и посчитайте корреляцию между отзывами и продажами. Сформулируйте выводы.\n",
        "* Соотнест выводы с продажами игр на других платформах.\n",
        "* Посмотреть на общее распределение игр по жанрам. Что можно сказать о самых прибыльных жанрах? Выделяются ли жанры с высокими и низкими продажами?\n",
        "\n",
        "### Составить портрет пользователя каждого региона\n",
        "\n",
        "* Определить для пользователя каждого региона (NA, EU, JP):\n",
        "* Самые популярные платформы (топ-5). Описать различия в долях продаж.\n",
        "* Самые популярные жанры (топ-5). Пояснить разницу.\n",
        "* Влияет ли рейтинг ESRB на продажи в отдельном регионе?\n",
        "\n",
        "### Проверить гипотезы\n",
        "\n",
        "* Средние пользовательские рейтинги платформ Xbox One и PC одинаковые;\n",
        "* Средние пользовательские рейтинги жанров Action (англ. «действие», экшен-игры) и Sports (англ. «спортивные соревнования») разные.\n",
        "* Задать самостоятельно пороговое значение alpha.\n",
        "* Пояснить:\n",
        "    * Как вы сформулировали нулевую и альтернативную гипотезы;\n",
        "    * Какой критерий применили для проверки гипотез и почему.\n",
        "\n",
        "### Написать общий вывод\n",
        "\n",
        "    \n",
        "## Описание данных\n",
        "\n",
        "Файл /datasets/games.csv <a href=\"https://code.s3.yandex.net/datasets/games.csv\">(скачать датасет)</a></p>:\n",
        "\n",
        "* Name — название игры\n",
        "* Platform — платформа\n",
        "* Year_of_Release — год выпуска\n",
        "* Genre — жанр игры\n",
        "* NA_sales — продажи в Северной Америке (миллионы проданных копий)\n",
        "* EU_sales — продажи в Европе (миллионы проданных копий)\n",
        "* JP_sales — продажи в Японии (миллионы проданных копий)\n",
        "* Other_sales — продажи в других странах (миллионы проданных копий)\n",
        "* Critic_Score — оценка критиков (максимум 100)\n",
        "* User_Score — оценка пользователей (максимум 10)\n",
        "* Rating — рейтинг от организации ESRB (англ. Entertainment Software Rating Board). Эта ассоциация определяет рейтинг компьютерных игр и присваивает им подходящую возрастную категорию.\n",
        "\n",
        "*Данные за 2016 год могут быть неполными.*"
      ]
    },
    {
      "cell_type": "markdown",
      "metadata": {
        "id": "rnjqg2R8w9j3"
      },
      "source": [
        "## Подготовка данных"
      ]
    },
    {
      "cell_type": "markdown",
      "metadata": {
        "id": "nhUXaKQrw9j3"
      },
      "source": [
        "### Подключение необходимым библиотек, задание констант"
      ]
    },
    {
      "cell_type": "code",
      "execution_count": null,
      "metadata": {
        "id": "qSIRbhEPw9j3"
      },
      "outputs": [],
      "source": [
        "import pandas as pd\n",
        "import seaborn as sns\n",
        "import matplotlib.pyplot as plt\n",
        "import numpy as np\n",
        "import datetime as dt\n",
        "import re\n",
        "from scipy.stats import ttest_ind\n",
        "import math\n",
        "import ast\n",
        "import plotly.express as px\n",
        "from datetime import datetime, timedelta, date\n",
        "from pandas.plotting import register_matplotlib_converters\n",
        "import warnings\n",
        "import scipy.stats as stats\n",
        "# конвертеры, которые позволяют использовать типы pandas в matplotlib\n",
        "register_matplotlib_converters()"
      ]
    },
    {
      "cell_type": "code",
      "execution_count": null,
      "metadata": {
        "id": "NXEJXoURw9j4",
        "outputId": "74ea2e64-68e5-437d-dc7d-a4c757c1ccad"
      },
      "outputs": [
        {
          "data": {
            "text/plain": [
              "<Figure size 2160x720 with 0 Axes>"
            ]
          },
          "metadata": {},
          "output_type": "display_data"
        }
      ],
      "source": [
        "plt.figure(figsize=(30, 10))\n",
        "sns.set_style('darkgrid')\n",
        "pd.set_option('display.max_colwidth', False)"
      ]
    },
    {
      "cell_type": "markdown",
      "metadata": {
        "id": "x7df6R1Nw9j5"
      },
      "source": [
        "### Открытие файла с данными и изучение общей информации"
      ]
    },
    {
      "cell_type": "code",
      "execution_count": null,
      "metadata": {
        "id": "8OV9clK8w9j5"
      },
      "outputs": [],
      "source": [
        "try:\n",
        "    df = pd.read_csv('games.csv')\n",
        "except:\n",
        "    df = pd.read_csv('https://code.s3.yandex.net/datasets/games.csv')"
      ]
    },
    {
      "cell_type": "code",
      "execution_count": null,
      "metadata": {
        "scrolled": true,
        "id": "XJPhMh9Gw9j5",
        "outputId": "1954641e-7d5e-4d21-d081-4663b84d33f9"
      },
      "outputs": [
        {
          "data": {
            "text/html": [
              "<div>\n",
              "<style scoped>\n",
              "    .dataframe tbody tr th:only-of-type {\n",
              "        vertical-align: middle;\n",
              "    }\n",
              "\n",
              "    .dataframe tbody tr th {\n",
              "        vertical-align: top;\n",
              "    }\n",
              "\n",
              "    .dataframe thead th {\n",
              "        text-align: right;\n",
              "    }\n",
              "</style>\n",
              "<table border=\"1\" class=\"dataframe\">\n",
              "  <thead>\n",
              "    <tr style=\"text-align: right;\">\n",
              "      <th></th>\n",
              "      <th>Name</th>\n",
              "      <th>Platform</th>\n",
              "      <th>Year_of_Release</th>\n",
              "      <th>Genre</th>\n",
              "      <th>NA_sales</th>\n",
              "      <th>EU_sales</th>\n",
              "      <th>JP_sales</th>\n",
              "      <th>Other_sales</th>\n",
              "      <th>Critic_Score</th>\n",
              "      <th>User_Score</th>\n",
              "      <th>Rating</th>\n",
              "    </tr>\n",
              "  </thead>\n",
              "  <tbody>\n",
              "    <tr>\n",
              "      <th>0</th>\n",
              "      <td>Wii Sports</td>\n",
              "      <td>Wii</td>\n",
              "      <td>2006.0</td>\n",
              "      <td>Sports</td>\n",
              "      <td>41.36</td>\n",
              "      <td>28.96</td>\n",
              "      <td>3.77</td>\n",
              "      <td>8.45</td>\n",
              "      <td>76.0</td>\n",
              "      <td>8</td>\n",
              "      <td>E</td>\n",
              "    </tr>\n",
              "    <tr>\n",
              "      <th>1</th>\n",
              "      <td>Super Mario Bros.</td>\n",
              "      <td>NES</td>\n",
              "      <td>1985.0</td>\n",
              "      <td>Platform</td>\n",
              "      <td>29.08</td>\n",
              "      <td>3.58</td>\n",
              "      <td>6.81</td>\n",
              "      <td>0.77</td>\n",
              "      <td>NaN</td>\n",
              "      <td>NaN</td>\n",
              "      <td>NaN</td>\n",
              "    </tr>\n",
              "    <tr>\n",
              "      <th>2</th>\n",
              "      <td>Mario Kart Wii</td>\n",
              "      <td>Wii</td>\n",
              "      <td>2008.0</td>\n",
              "      <td>Racing</td>\n",
              "      <td>15.68</td>\n",
              "      <td>12.76</td>\n",
              "      <td>3.79</td>\n",
              "      <td>3.29</td>\n",
              "      <td>82.0</td>\n",
              "      <td>8.3</td>\n",
              "      <td>E</td>\n",
              "    </tr>\n",
              "    <tr>\n",
              "      <th>3</th>\n",
              "      <td>Wii Sports Resort</td>\n",
              "      <td>Wii</td>\n",
              "      <td>2009.0</td>\n",
              "      <td>Sports</td>\n",
              "      <td>15.61</td>\n",
              "      <td>10.93</td>\n",
              "      <td>3.28</td>\n",
              "      <td>2.95</td>\n",
              "      <td>80.0</td>\n",
              "      <td>8</td>\n",
              "      <td>E</td>\n",
              "    </tr>\n",
              "    <tr>\n",
              "      <th>4</th>\n",
              "      <td>Pokemon Red/Pokemon Blue</td>\n",
              "      <td>GB</td>\n",
              "      <td>1996.0</td>\n",
              "      <td>Role-Playing</td>\n",
              "      <td>11.27</td>\n",
              "      <td>8.89</td>\n",
              "      <td>10.22</td>\n",
              "      <td>1.00</td>\n",
              "      <td>NaN</td>\n",
              "      <td>NaN</td>\n",
              "      <td>NaN</td>\n",
              "    </tr>\n",
              "  </tbody>\n",
              "</table>\n",
              "</div>"
            ],
            "text/plain": [
              "                       Name Platform  Year_of_Release         Genre  NA_sales  \\\n",
              "0  Wii Sports                Wii      2006.0           Sports        41.36      \n",
              "1  Super Mario Bros.         NES      1985.0           Platform      29.08      \n",
              "2  Mario Kart Wii            Wii      2008.0           Racing        15.68      \n",
              "3  Wii Sports Resort         Wii      2009.0           Sports        15.61      \n",
              "4  Pokemon Red/Pokemon Blue  GB       1996.0           Role-Playing  11.27      \n",
              "\n",
              "   EU_sales  JP_sales  Other_sales  Critic_Score User_Score Rating  \n",
              "0  28.96     3.77      8.45         76.0          8          E      \n",
              "1  3.58      6.81      0.77        NaN            NaN        NaN    \n",
              "2  12.76     3.79      3.29         82.0          8.3        E      \n",
              "3  10.93     3.28      2.95         80.0          8          E      \n",
              "4  8.89      10.22     1.00        NaN            NaN        NaN    "
            ]
          },
          "execution_count": 4,
          "metadata": {},
          "output_type": "execute_result"
        }
      ],
      "source": [
        "df.head()"
      ]
    },
    {
      "cell_type": "code",
      "execution_count": null,
      "metadata": {
        "id": "BkAe37J7w9j5",
        "outputId": "3b9e3dba-20b7-4764-bf3f-2a902aee35d1"
      },
      "outputs": [
        {
          "name": "stdout",
          "output_type": "stream",
          "text": [
            "<class 'pandas.core.frame.DataFrame'>\n",
            "RangeIndex: 16715 entries, 0 to 16714\n",
            "Data columns (total 11 columns):\n",
            " #   Column           Non-Null Count  Dtype  \n",
            "---  ------           --------------  -----  \n",
            " 0   Name             16713 non-null  object \n",
            " 1   Platform         16715 non-null  object \n",
            " 2   Year_of_Release  16446 non-null  float64\n",
            " 3   Genre            16713 non-null  object \n",
            " 4   NA_sales         16715 non-null  float64\n",
            " 5   EU_sales         16715 non-null  float64\n",
            " 6   JP_sales         16715 non-null  float64\n",
            " 7   Other_sales      16715 non-null  float64\n",
            " 8   Critic_Score     8137 non-null   float64\n",
            " 9   User_Score       10014 non-null  object \n",
            " 10  Rating           9949 non-null   object \n",
            "dtypes: float64(6), object(5)\n",
            "memory usage: 1.4+ MB\n"
          ]
        }
      ],
      "source": [
        "df.info()"
      ]
    },
    {
      "cell_type": "markdown",
      "metadata": {
        "id": "9oXeIVpew9j5"
      },
      "source": [
        "<b>Наблюдения:</b>\n",
        "\n",
        "В датафрейме названия столбцов указаны в не в нижнем регистре, тип данных для столбца Year_of_Release указан неверно, также имеются пропуска в столбцах Name, Year_of_Release, Genre, Critic_Score, User_Score и Rating"
      ]
    },
    {
      "cell_type": "markdown",
      "metadata": {
        "id": "q4TOE3XMw9j6"
      },
      "source": [
        "### Подготовка данных"
      ]
    },
    {
      "cell_type": "code",
      "execution_count": null,
      "metadata": {
        "id": "ME_zNBztw9j6"
      },
      "outputs": [],
      "source": [
        "## переименование столбец в один стандарт\n",
        "df.columns= ['name', 'platform', 'year_of_release', 'genre', 'NA_sales', 'EU_sales', 'JP_sales', 'other_sales', 'critical_score', 'user_score', 'rating']"
      ]
    },
    {
      "cell_type": "code",
      "execution_count": null,
      "metadata": {
        "scrolled": true,
        "id": "diTmetxFw9j6",
        "outputId": "89cf25dc-bb0e-4e14-b8bc-5ad29b49cc24"
      },
      "outputs": [
        {
          "data": {
            "text/plain": [
              "array([2006., 1985., 2008., 2009., 1996., 1989., 1984., 2005., 1999.,\n",
              "       2007., 2010., 2013., 2004., 1990., 1988., 2002., 2001., 2011.,\n",
              "       1998., 2015., 2012., 2014., 1992., 1997., 1993., 1994., 1982.,\n",
              "       2016., 2003., 1986., 2000.,   nan, 1995., 1991., 1981., 1987.,\n",
              "       1980., 1983.])"
            ]
          },
          "execution_count": 7,
          "metadata": {},
          "output_type": "execute_result"
        }
      ],
      "source": [
        "## просмотрит все уникальные значения user_score\n",
        "df['year_of_release'].unique()"
      ]
    },
    {
      "cell_type": "code",
      "execution_count": null,
      "metadata": {
        "id": "-yvbY6_7w9j7",
        "outputId": "b806356c-139c-4fe0-998e-f9aa400f6e99"
      },
      "outputs": [
        {
          "data": {
            "text/plain": [
              "array(['8', nan, '8.3', '8.5', '6.6', '8.4', '8.6', '7.7', '6.3', '7.4',\n",
              "       '8.2', '9', '7.9', '8.1', '8.7', '7.1', '3.4', '5.3', '4.8', '3.2',\n",
              "       '8.9', '6.4', '7.8', '7.5', '2.6', '7.2', '9.2', '7', '7.3', '4.3',\n",
              "       '7.6', '5.7', '5', '9.1', '6.5', 'tbd', '8.8', '6.9', '9.4', '6.8',\n",
              "       '6.1', '6.7', '5.4', '4', '4.9', '4.5', '9.3', '6.2', '4.2', '6',\n",
              "       '3.7', '4.1', '5.8', '5.6', '5.5', '4.4', '4.6', '5.9', '3.9',\n",
              "       '3.1', '2.9', '5.2', '3.3', '4.7', '5.1', '3.5', '2.5', '1.9', '3',\n",
              "       '2.7', '2.2', '2', '9.5', '2.1', '3.6', '2.8', '1.8', '3.8', '0',\n",
              "       '1.6', '9.6', '2.4', '1.7', '1.1', '0.3', '1.5', '0.7', '1.2',\n",
              "       '2.3', '0.5', '1.3', '0.2', '0.6', '1.4', '0.9', '1', '9.7'],\n",
              "      dtype=object)"
            ]
          },
          "execution_count": 8,
          "metadata": {},
          "output_type": "execute_result"
        }
      ],
      "source": [
        "## уникальные значения пользовательских рейтингов\n",
        "df['user_score'].unique()"
      ]
    },
    {
      "cell_type": "code",
      "execution_count": null,
      "metadata": {
        "id": "GmBwcJLWw9j7",
        "outputId": "2e088e67-3e48-4972-9aa0-bd539085e5f3"
      },
      "outputs": [
        {
          "data": {
            "text/plain": [
              "name               2424\n",
              "platform           2424\n",
              "year_of_release    2376\n",
              "genre              2424\n",
              "NA_sales           2424\n",
              "EU_sales           2424\n",
              "JP_sales           2424\n",
              "other_sales        2424\n",
              "critical_score     1082\n",
              "user_score         2424\n",
              "rating             2374\n",
              "dtype: int64"
            ]
          },
          "execution_count": 9,
          "metadata": {},
          "output_type": "execute_result"
        }
      ],
      "source": [
        "## посчитаем количество данных, где рейтинг не определен (to be determined)\n",
        "df.query('user_score == \"tbd\"').count()"
      ]
    },
    {
      "cell_type": "code",
      "execution_count": null,
      "metadata": {
        "id": "_l-NEpDyw9j7",
        "outputId": "d514871c-4e41-4aa7-9847-c53f516b48da"
      },
      "outputs": [
        {
          "data": {
            "text/plain": [
              "6701"
            ]
          },
          "execution_count": 10,
          "metadata": {},
          "output_type": "execute_result"
        }
      ],
      "source": [
        "## посчитаеем количество пустых строк в столбце\n",
        "df['user_score'].isna().sum()"
      ]
    },
    {
      "cell_type": "code",
      "execution_count": null,
      "metadata": {
        "id": "RCIMBqAcw9j7",
        "outputId": "ccc96cd2-e763-460f-92e9-46c0d591467d"
      },
      "outputs": [
        {
          "data": {
            "text/plain": [
              "9125"
            ]
          },
          "execution_count": 11,
          "metadata": {},
          "output_type": "execute_result"
        }
      ],
      "source": [
        "## заменим значение tbd на NaN(неопределен) и выведем количество пустых строк\n",
        "df['user_score'] = df['user_score'].replace('tbd', np.nan)\n",
        "df['user_score'].isna().sum()"
      ]
    },
    {
      "cell_type": "code",
      "execution_count": null,
      "metadata": {
        "id": "x20V5H0Jw9j8",
        "outputId": "17111944-1941-49ef-bbe9-1a30278b5fe5"
      },
      "outputs": [
        {
          "data": {
            "text/plain": [
              "array([2006., 1985., 2008., 2009., 1996., 1989., 1984., 2005., 1999.,\n",
              "       2007., 2010., 2013., 2004., 1990., 1988., 2002., 2001., 2011.,\n",
              "       1998., 2015., 2012., 2014., 1992., 1997., 1993., 1994., 1982.,\n",
              "       2016., 2003., 1986., 2000.,   nan, 1995., 1991., 1981., 1987.,\n",
              "       1980., 1983.])"
            ]
          },
          "execution_count": 12,
          "metadata": {},
          "output_type": "execute_result"
        }
      ],
      "source": [
        "## уникальные значения годов выпуска\n",
        "df['year_of_release'].unique()"
      ]
    },
    {
      "cell_type": "code",
      "execution_count": null,
      "metadata": {
        "id": "fEIWRizzw9j8"
      },
      "outputs": [],
      "source": [
        "## заменим тип данных поля после манипуляций\n",
        "df['user_score'] = df['user_score'].astype(float)"
      ]
    },
    {
      "cell_type": "code",
      "execution_count": null,
      "metadata": {
        "id": "JVgMOdSOw9j8",
        "outputId": "eef4165b-c16a-40ac-82b7-db4d6d03c51b"
      },
      "outputs": [
        {
          "data": {
            "text/plain": [
              "array(['E', nan, 'M', 'T', 'E10+', 'K-A', 'AO', 'EC', 'RP'], dtype=object)"
            ]
          },
          "execution_count": 14,
          "metadata": {},
          "output_type": "execute_result"
        }
      ],
      "source": [
        "## уникальные значения возрастных рейтингов\n",
        "df['rating'].unique()"
      ]
    },
    {
      "cell_type": "code",
      "execution_count": null,
      "metadata": {
        "id": "Aq1bjdHVw9j8"
      },
      "outputs": [],
      "source": [
        "## смена типа данных поля на целочисленное\n",
        "df[\"year_of_release\"] = pd.to_numeric(df[\"year_of_release\"], errors='coerce').astype('Int64')"
      ]
    },
    {
      "cell_type": "code",
      "execution_count": null,
      "metadata": {
        "id": "52Su6TrPw9j9"
      },
      "outputs": [],
      "source": [
        "df = df.dropna(subset=['year_of_release', 'name', 'genre'], axis=0)"
      ]
    },
    {
      "cell_type": "code",
      "execution_count": null,
      "metadata": {
        "scrolled": false,
        "id": "LEq8Mi3Qw9j9",
        "outputId": "74ec5dfc-58ec-43f8-e4a0-3dca73abfc85"
      },
      "outputs": [
        {
          "data": {
            "text/plain": [
              "<IntegerArray>\n",
              "[2006, 1985, 2008, 2009, 1996, 1989, 1984, 2005, 1999, 2007, 2010, 2013, 2004,\n",
              " 1990, 1988, 2002, 2001, 2011, 1998, 2015, 2012, 2014, 1992, 1997, 1993, 1994,\n",
              " 1982, 2016, 2003, 1986, 2000, 1995, 1991, 1981, 1987, 1980, 1983]\n",
              "Length: 37, dtype: Int64"
            ]
          },
          "execution_count": 17,
          "metadata": {},
          "output_type": "execute_result"
        }
      ],
      "source": [
        "## проверка корректности значений\n",
        "df['year_of_release'].unique()"
      ]
    },
    {
      "cell_type": "code",
      "execution_count": null,
      "metadata": {
        "scrolled": true,
        "id": "YXHIL8bgw9j9",
        "outputId": "581fb519-7ecd-4c3d-9c13-13b1300b0840"
      },
      "outputs": [
        {
          "data": {
            "text/html": [
              "<div>\n",
              "<style scoped>\n",
              "    .dataframe tbody tr th:only-of-type {\n",
              "        vertical-align: middle;\n",
              "    }\n",
              "\n",
              "    .dataframe tbody tr th {\n",
              "        vertical-align: top;\n",
              "    }\n",
              "\n",
              "    .dataframe thead th {\n",
              "        text-align: right;\n",
              "    }\n",
              "</style>\n",
              "<table border=\"1\" class=\"dataframe\">\n",
              "  <thead>\n",
              "    <tr style=\"text-align: right;\">\n",
              "      <th></th>\n",
              "      <th>year_of_release</th>\n",
              "      <th>NA_sales</th>\n",
              "      <th>EU_sales</th>\n",
              "      <th>JP_sales</th>\n",
              "      <th>other_sales</th>\n",
              "      <th>critical_score</th>\n",
              "      <th>user_score</th>\n",
              "    </tr>\n",
              "  </thead>\n",
              "  <tbody>\n",
              "    <tr>\n",
              "      <th>count</th>\n",
              "      <td>16444.000000</td>\n",
              "      <td>16444.000000</td>\n",
              "      <td>16444.000000</td>\n",
              "      <td>16444.000000</td>\n",
              "      <td>16444.000000</td>\n",
              "      <td>7983.000000</td>\n",
              "      <td>7463.000000</td>\n",
              "    </tr>\n",
              "    <tr>\n",
              "      <th>mean</th>\n",
              "      <td>2006.486256</td>\n",
              "      <td>0.264012</td>\n",
              "      <td>0.145930</td>\n",
              "      <td>0.078487</td>\n",
              "      <td>0.047594</td>\n",
              "      <td>68.994363</td>\n",
              "      <td>7.126330</td>\n",
              "    </tr>\n",
              "    <tr>\n",
              "      <th>std</th>\n",
              "      <td>5.875525</td>\n",
              "      <td>0.818378</td>\n",
              "      <td>0.506716</td>\n",
              "      <td>0.311100</td>\n",
              "      <td>0.188005</td>\n",
              "      <td>13.920060</td>\n",
              "      <td>1.499447</td>\n",
              "    </tr>\n",
              "    <tr>\n",
              "      <th>min</th>\n",
              "      <td>1980.000000</td>\n",
              "      <td>0.000000</td>\n",
              "      <td>0.000000</td>\n",
              "      <td>0.000000</td>\n",
              "      <td>0.000000</td>\n",
              "      <td>13.000000</td>\n",
              "      <td>0.000000</td>\n",
              "    </tr>\n",
              "    <tr>\n",
              "      <th>25%</th>\n",
              "      <td>2003.000000</td>\n",
              "      <td>0.000000</td>\n",
              "      <td>0.000000</td>\n",
              "      <td>0.000000</td>\n",
              "      <td>0.000000</td>\n",
              "      <td>60.000000</td>\n",
              "      <td>6.400000</td>\n",
              "    </tr>\n",
              "    <tr>\n",
              "      <th>50%</th>\n",
              "      <td>2007.000000</td>\n",
              "      <td>0.080000</td>\n",
              "      <td>0.020000</td>\n",
              "      <td>0.000000</td>\n",
              "      <td>0.010000</td>\n",
              "      <td>71.000000</td>\n",
              "      <td>7.500000</td>\n",
              "    </tr>\n",
              "    <tr>\n",
              "      <th>75%</th>\n",
              "      <td>2010.000000</td>\n",
              "      <td>0.240000</td>\n",
              "      <td>0.110000</td>\n",
              "      <td>0.040000</td>\n",
              "      <td>0.030000</td>\n",
              "      <td>79.000000</td>\n",
              "      <td>8.200000</td>\n",
              "    </tr>\n",
              "    <tr>\n",
              "      <th>max</th>\n",
              "      <td>2016.000000</td>\n",
              "      <td>41.360000</td>\n",
              "      <td>28.960000</td>\n",
              "      <td>10.220000</td>\n",
              "      <td>10.570000</td>\n",
              "      <td>98.000000</td>\n",
              "      <td>9.700000</td>\n",
              "    </tr>\n",
              "  </tbody>\n",
              "</table>\n",
              "</div>"
            ],
            "text/plain": [
              "       year_of_release      NA_sales      EU_sales      JP_sales  \\\n",
              "count  16444.000000     16444.000000  16444.000000  16444.000000   \n",
              "mean   2006.486256      0.264012      0.145930      0.078487       \n",
              "std    5.875525         0.818378      0.506716      0.311100       \n",
              "min    1980.000000      0.000000      0.000000      0.000000       \n",
              "25%    2003.000000      0.000000      0.000000      0.000000       \n",
              "50%    2007.000000      0.080000      0.020000      0.000000       \n",
              "75%    2010.000000      0.240000      0.110000      0.040000       \n",
              "max    2016.000000      41.360000     28.960000     10.220000      \n",
              "\n",
              "        other_sales  critical_score   user_score  \n",
              "count  16444.000000  7983.000000     7463.000000  \n",
              "mean   0.047594      68.994363       7.126330     \n",
              "std    0.188005      13.920060       1.499447     \n",
              "min    0.000000      13.000000       0.000000     \n",
              "25%    0.000000      60.000000       6.400000     \n",
              "50%    0.010000      71.000000       7.500000     \n",
              "75%    0.030000      79.000000       8.200000     \n",
              "max    10.570000     98.000000       9.700000     "
            ]
          },
          "execution_count": 18,
          "metadata": {},
          "output_type": "execute_result"
        }
      ],
      "source": [
        "df.describe()"
      ]
    },
    {
      "cell_type": "code",
      "execution_count": null,
      "metadata": {
        "id": "jKdohOhPw9j9",
        "outputId": "d66a5fa1-6774-4824-aa78-5a44bc32f4b3"
      },
      "outputs": [
        {
          "name": "stdout",
          "output_type": "stream",
          "text": [
            "<class 'pandas.core.frame.DataFrame'>\n",
            "Int64Index: 16444 entries, 0 to 16714\n",
            "Data columns (total 11 columns):\n",
            " #   Column           Non-Null Count  Dtype  \n",
            "---  ------           --------------  -----  \n",
            " 0   name             16444 non-null  object \n",
            " 1   platform         16444 non-null  object \n",
            " 2   year_of_release  16444 non-null  Int64  \n",
            " 3   genre            16444 non-null  object \n",
            " 4   NA_sales         16444 non-null  float64\n",
            " 5   EU_sales         16444 non-null  float64\n",
            " 6   JP_sales         16444 non-null  float64\n",
            " 7   other_sales      16444 non-null  float64\n",
            " 8   critical_score   7983 non-null   float64\n",
            " 9   user_score       7463 non-null   float64\n",
            " 10  rating           9768 non-null   object \n",
            "dtypes: Int64(1), float64(6), object(4)\n",
            "memory usage: 1.5+ MB\n"
          ]
        }
      ],
      "source": [
        "df.info()"
      ]
    },
    {
      "cell_type": "code",
      "execution_count": null,
      "metadata": {
        "id": "eljGgtWGw9j9"
      },
      "outputs": [],
      "source": [
        "## смена типа данных поля на целочисленное\n",
        "df[\"critical_score\"] = pd.to_numeric(df[\"critical_score\"], errors='coerce').astype('Int64')"
      ]
    },
    {
      "cell_type": "code",
      "execution_count": null,
      "metadata": {
        "id": "PQxBeyr5w9j9",
        "outputId": "c0c7fba1-be79-441f-a763-a4854879e8f7"
      },
      "outputs": [
        {
          "data": {
            "text/plain": [
              "<IntegerArray>\n",
              "[  76, <NA>,   82,   80,   89,   58,   87,   91,   61,   97,   95,   77,   88,\n",
              "   83,   94,   93,   85,   86,   98,   96,   90,   84,   73,   74,   78,   92,\n",
              "   71,   72,   68,   62,   49,   67,   81,   66,   56,   79,   70,   59,   64,\n",
              "   75,   60,   63,   69,   50,   25,   42,   44,   55,   48,   57,   29,   47,\n",
              "   65,   54,   20,   53,   37,   38,   33,   52,   30,   32,   43,   45,   51,\n",
              "   40,   46,   39,   34,   41,   36,   31,   27,   35,   26,   19,   28,   23,\n",
              "   24,   21,   17,   13]\n",
              "Length: 82, dtype: Int64"
            ]
          },
          "execution_count": 21,
          "metadata": {},
          "output_type": "execute_result"
        }
      ],
      "source": [
        "df['critical_score'].unique()"
      ]
    },
    {
      "cell_type": "code",
      "execution_count": null,
      "metadata": {
        "id": "EFqI5zlpw9kH"
      },
      "outputs": [],
      "source": [
        "## Приведем значения столбца rating в более читабельный вид\n",
        "def get_age_group(rating):\n",
        "    if rating == 'E' or rating == 'K-A' or rating == 'EC':\n",
        "        return 'Для всех'\n",
        "    elif rating == 'M' or rating == 'AO':\n",
        "        return 'Для взрослых'\n",
        "    elif rating == 'T':\n",
        "        return 'Подросткам'\n",
        "    elif rating == 'E10+':\n",
        "        return 'Для всех старше 10 лет'\n",
        "    else:\n",
        "        return 'Неизвестно'\n",
        "\n",
        "df['rating'] = df['rating'].apply(get_age_group)"
      ]
    },
    {
      "cell_type": "code",
      "execution_count": null,
      "metadata": {
        "id": "E_EVILO_w9kI"
      },
      "outputs": [],
      "source": [
        "## подсчет суммарной выручки\n",
        "df['total_sales'] = df[['NA_sales','EU_sales','JP_sales', 'other_sales']].sum(axis = 1)"
      ]
    },
    {
      "cell_type": "code",
      "execution_count": null,
      "metadata": {
        "scrolled": true,
        "id": "ltsjkpuDw9kI"
      },
      "outputs": [],
      "source": [
        "## количество дублей по столбццам имя, жанр, платформа и год релиза\n",
        "duplicates = df.duplicated(subset=['name','genre', 'platform', 'year_of_release']).sum()"
      ]
    },
    {
      "cell_type": "code",
      "execution_count": null,
      "metadata": {
        "id": "kBqNODiFw9kI"
      },
      "outputs": [],
      "source": [
        "## удаление дублей\n",
        "df = df.drop_duplicates(subset=['name','genre', 'platform', 'year_of_release'])"
      ]
    },
    {
      "cell_type": "code",
      "execution_count": null,
      "metadata": {
        "id": "I2WoDNRrw9kI",
        "outputId": "9434ea0b-8efa-487a-95da-b71ce4786919"
      },
      "outputs": [
        {
          "name": "stdout",
          "output_type": "stream",
          "text": [
            "<class 'pandas.core.frame.DataFrame'>\n",
            "Int64Index: 16443 entries, 0 to 16714\n",
            "Data columns (total 12 columns):\n",
            " #   Column           Non-Null Count  Dtype  \n",
            "---  ------           --------------  -----  \n",
            " 0   name             16443 non-null  object \n",
            " 1   platform         16443 non-null  object \n",
            " 2   year_of_release  16443 non-null  Int64  \n",
            " 3   genre            16443 non-null  object \n",
            " 4   NA_sales         16443 non-null  float64\n",
            " 5   EU_sales         16443 non-null  float64\n",
            " 6   JP_sales         16443 non-null  float64\n",
            " 7   other_sales      16443 non-null  float64\n",
            " 8   critical_score   7982 non-null   Int64  \n",
            " 9   user_score       7462 non-null   float64\n",
            " 10  rating           16443 non-null  object \n",
            " 11  total_sales      16443 non-null  float64\n",
            "dtypes: Int64(2), float64(6), object(4)\n",
            "memory usage: 1.7+ MB\n"
          ]
        }
      ],
      "source": [
        "df.info()"
      ]
    },
    {
      "cell_type": "markdown",
      "metadata": {
        "id": "NY9GcnU1w9kK"
      },
      "source": [
        "<b>Наблюдения:</b>\n",
        "\n",
        "По итогу подготовки данных пропуски остались в столбцах critical_score и user_score. Пропуски в столбцах user_score и critical_score могут быть обусловлены разными причинами:\n",
        "* Отсутствие данных: Возможно, некоторые игры не имеют оценок от пользователей или критиков в базе данных, поскольку либо недостаточно пользователей/критиков оставило оценку, либо эти игры не были подвергнуты оценке в принципе.\n",
        "* Ошибки или проблемы при сборе данных: В некоторых случаях могут возникнуть ошибки при сборе данных, что приводит к пропускам в столбцах с оценками.\n",
        "* Недостаточное время выхода игры: Если игра относительно новая или только вышла на рынок, то оценки от пользователей и критиков могут быть еще не доступны.\n",
        "* Недостаточная популярность игры: Некоторые игры могут быть недостаточно популярными, и в результате оценки от пользователей и критиков могут быть недостаточно значимыми для включения в базу данных.\n",
        "* Несовместимость формата оценок: Возможно, формат оценок, который использовался для сбора данных, не соответствует формату, который ожидался в столбцах user_score и critical_score, что может привести к пропускам или некорректным значениям."
      ]
    },
    {
      "cell_type": "markdown",
      "metadata": {
        "id": "IAEayZBSw9kK"
      },
      "source": [
        "## Исследовательский анализ данных"
      ]
    },
    {
      "cell_type": "code",
      "execution_count": null,
      "metadata": {
        "scrolled": false,
        "id": "RbrDEU4Fw9kK",
        "outputId": "db127165-d109-4ce1-9590-ce29db201e43"
      },
      "outputs": [
        {
          "data": {
            "image/png": "[encoded data removed]",
            "text/plain": [
              "<Figure size 864x432 with 1 Axes>"
            ]
          },
          "metadata": {},
          "output_type": "display_data"
        }
      ],
      "source": [
        "games_per_year = df.groupby('year_of_release').size()\n",
        "plt.figure(figsize=(12, 6))\n",
        "plt.plot(games_per_year.index, games_per_year.values, marker='o', linestyle='-', color='b')\n",
        "plt.xlabel('Год выпуска')\n",
        "plt.ylabel('Количество игр')\n",
        "plt.title('Количество выпущенных игр по годам')\n",
        "plt.grid(True)\n",
        "plt.show()"
      ]
    },
    {
      "cell_type": "markdown",
      "metadata": {
        "id": "JFvQjuFvw9kL"
      },
      "source": [
        "<b>Наблюдения:</b>\n",
        "\n",
        "Данных за период до 2000 года включительно мало, из-за чего может быть неверная оценка, так как исследуемая выборка слишком мала."
      ]
    },
    {
      "cell_type": "code",
      "execution_count": null,
      "metadata": {
        "scrolled": false,
        "id": "xVPkglaOw9kL",
        "outputId": "4b6d5675-92a4-4e5e-a980-ff857c0c4bcb"
      },
      "outputs": [
        {
          "data": {
            "image/png": "[encoded data removed]",
            "text/plain": [
              "<Figure size 1440x1080 with 1 Axes>"
            ]
          },
          "metadata": {},
          "output_type": "display_data"
        }
      ],
      "source": [
        "platform_sales = df.groupby(\"platform\")[\"total_sales\"].sum().reset_index()\n",
        "\n",
        "# Выбор платформ с наибольшими суммарными продажами\n",
        "top_platforms = platform_sales.nlargest(5, \"total_sales\")\n",
        "\n",
        "# Фильтрация данных только для выбранных платформ\n",
        "filtered_df = df[df[\"platform\"].isin(top_platforms[\"platform\"])]\n",
        "\n",
        "# Построение распределения продаж по годам\n",
        "sales_by_year = filtered_df.groupby([\"platform\", \"year_of_release\"])[\"total_sales\"].sum().unstack()\n",
        "sales_by_year.plot(kind=\"bar\", stacked=True, figsize=(20, 15))\n",
        "plt.title(\"Распределение продаж по годам для выбранных платформ\")\n",
        "plt.xlabel(\"Год\")\n",
        "plt.ylabel(\"Продажи (млн копий)\")\n",
        "plt.legend(loc=\"upper left\")\n",
        "plt.show()"
      ]
    },
    {
      "cell_type": "code",
      "execution_count": null,
      "metadata": {
        "id": "tdyLbMpow9kM",
        "outputId": "272f7b54-d825-4b00-c517-07eb60de1b0a"
      },
      "outputs": [
        {
          "name": "stdout",
          "output_type": "stream",
          "text": [
            "Характерный срок появления новых и исчезновения старых платформ:\n",
            "platform\n",
            "DS      28\n",
            "PS2     11\n",
            "PS3     10\n",
            "Wii     10\n",
            "X360    11\n",
            "Name: year_of_release, dtype: Int64\n"
          ]
        }
      ],
      "source": [
        "first_year = filtered_df.groupby(\"platform\")[\"year_of_release\"].min()\n",
        "last_year = filtered_df.groupby(\"platform\")[\"year_of_release\"].max()\n",
        "platform_lifecycle = last_year - first_year\n",
        "\n",
        "print(\"Характерный срок появления новых и исчезновения старых платформ:\")\n",
        "print(platform_lifecycle)"
      ]
    },
    {
      "cell_type": "code",
      "execution_count": null,
      "metadata": {
        "id": "P-d1MNltw9kM"
      },
      "outputs": [],
      "source": [
        "# Определение актуального периода данных\n",
        "current_year = 2017\n",
        "start_year = current_year - 2\n",
        "\n",
        "# Фильтрация данных за актуальный период\n",
        "filtered_df = df[df[\"year_of_release\"] >= start_year]"
      ]
    },
    {
      "cell_type": "code",
      "execution_count": null,
      "metadata": {
        "id": "rnxAelMww9kN",
        "outputId": "1f5c9ac8-2b0a-4d92-9577-2abb598f4f6f"
      },
      "outputs": [
        {
          "data": {
            "image/png": "[encoded data removed]",
            "text/plain": [
              "<Figure size 1440x720 with 1 Axes>"
            ]
          },
          "metadata": {},
          "output_type": "display_data"
        },
        {
          "name": "stdout",
          "output_type": "stream",
          "text": [
            "Потенциально прибыльные платформы:\n"
          ]
        },
        {
          "data": {
            "text/plain": [
              "0    PS4 \n",
              "1    XOne\n",
              "2    3DS \n",
              "3    WiiU\n",
              "4    PS3 \n",
              "Name: platform, dtype: object"
            ]
          },
          "execution_count": 31,
          "metadata": {},
          "output_type": "execute_result"
        }
      ],
      "source": [
        "platform_sales = filtered_df.groupby(\"platform\")[\"total_sales\"].sum().reset_index()\n",
        "\n",
        "# Сортировка по суммарным продажам\n",
        "sorted_platforms = platform_sales.sort_values(by=\"total_sales\", ascending=False)\n",
        "\n",
        "# Построение графика суммарных продаж по платформам\n",
        "sns.set(style=\"whitegrid\")  # Задание стиля сетки\n",
        "plt.figure(figsize=(20, 10))  # Задание размера графика\n",
        "sns.barplot(data=sorted_platforms, x=\"platform\", y=\"total_sales\")\n",
        "plt.title(\"Суммарные продажи по платформам за актуальный период\")\n",
        "plt.xlabel(\"Платформа\")\n",
        "plt.ylabel(\"Продажи (млн копий)\")\n",
        "plt.xticks(rotation=45)\n",
        "plt.show()\n",
        "\n",
        "# Выбор нескольких потенциально прибыльных платформ\n",
        "profitable_platforms = sorted_platforms[\"platform\"].reset_index().head(5)\n",
        "\n",
        "print(\"Потенциально прибыльные платформы:\")\n",
        "profitable_platforms[\"platform\"]"
      ]
    },
    {
      "cell_type": "code",
      "execution_count": null,
      "metadata": {
        "id": "fTlCSZ7Vw9kN",
        "outputId": "b850b6aa-10fa-41b9-909f-a1e2f0808bdc"
      },
      "outputs": [
        {
          "data": {
            "image/png": "[encoded data removed]",
            "text/plain": [
              "<Figure size 1440x1080 with 1 Axes>"
            ]
          },
          "metadata": {},
          "output_type": "display_data"
        }
      ],
      "source": [
        "plt.figure(figsize=(20, 15))\n",
        "sns.boxplot(data=filtered_df, x=\"platform\", y=\"total_sales\")\n",
        "plt.title(\"Распределение глобальных продаж игр по платформам\")\n",
        "plt.xlabel(\"Платформа\")\n",
        "plt.ylabel(\"Глобальные продажи (млн копий)\")\n",
        "plt.xticks(rotation=45)\n",
        "plt.show()"
      ]
    },
    {
      "cell_type": "code",
      "execution_count": null,
      "metadata": {
        "id": "eKYolGQPw9kO",
        "outputId": "9f6f7826-9089-4f85-c17c-cca257e47de5"
      },
      "outputs": [
        {
          "data": {
            "image/png": "[encoded data removed]",
            "text/plain": [
              "<Figure size 1440x1080 with 1 Axes>"
            ]
          },
          "metadata": {},
          "output_type": "display_data"
        }
      ],
      "source": [
        "plt.figure(figsize=(20, 15))\n",
        "sns.boxplot(data=filtered_df, x=\"platform\", y=\"total_sales\")\n",
        "plt.title(\"Распределение глобальных продаж игр по платформам\")\n",
        "plt.xlabel(\"Платформа\")\n",
        "plt.ylabel(\"Глобальные продажи (млн копий)\")\n",
        "plt.xticks(rotation=45)\n",
        "plt.ylim(0, 2)\n",
        "plt.show()"
      ]
    },
    {
      "cell_type": "markdown",
      "metadata": {
        "id": "gIsjmuRCw9kP"
      },
      "source": [
        "<b>Наблюдения:</b>\n",
        "\n",
        "* На всех платформах смещены значения средних и медианных продаж\n",
        "* Для платформы PS4, XONE, 3DS заметны явные значительные выбросы.\n",
        "* Такие же, небольшие выбросы заметны в платформах: X360, PS3, DS, PS4, 3DS.\n",
        "* XOne имеет наибольшее значение продаж, но медианное значение находятся на уровне PS4.\n",
        "* У платформ WiiU и XOne значение 75% квантиля практически на одном уровне.\n",
        "* Наименьшее значение продаж у платформ PSV и PSP"
      ]
    },
    {
      "cell_type": "code",
      "execution_count": null,
      "metadata": {
        "id": "CBW-7EI-w9kQ",
        "outputId": "00dc656c-9be0-48b1-8e2d-4331a0a3b3bb"
      },
      "outputs": [
        {
          "data": {
            "image/png": "[encoded data removed]",
            "text/plain": [
              "<Figure size 576x432 with 1 Axes>"
            ]
          },
          "metadata": {},
          "output_type": "display_data"
        },
        {
          "name": "stdout",
          "output_type": "stream",
          "text": [
            "Корреляция между отзывами и продажами:\n",
            "user_score       NaN\n",
            "critical_score   NaN\n",
            "total_sales      NaN\n",
            "Name: total_sales, dtype: float64\n"
          ]
        }
      ],
      "source": [
        "# Выбор популярной платформы\n",
        "platform = \"PS3\"\n",
        "platform_df = filtered_df[filtered_df[\"platform\"] == platform]\n",
        "\n",
        "# Фильтрация данных с отзывами\n",
        "review_columns = [\"user_score\", \"critical_score\", \"total_sales\"]\n",
        "review_df = platform_df[review_columns].dropna()\n",
        "\n",
        "# Построение диаграммы рассеяния и вычисление корреляции\n",
        "plt.figure(figsize=(8, 6))  # Задание размера графика\n",
        "sns.scatterplot(data=review_df, x=\"user_score\", y=\"total_sales\", label=\"Отзывы пользователей\")\n",
        "sns.scatterplot(data=review_df, x=\"critical_score\", y=\"total_sales\", label=\"Отзывы критиков\")\n",
        "plt.title(f\"Продажи игр на платформе {platform} и отзывы\")\n",
        "plt.xlabel(\"Отзывы\")\n",
        "plt.ylabel(\"Глобальные продажи (млн копий)\")\n",
        "plt.legend()\n",
        "plt.show()\n",
        "\n",
        "# Вычисление корреляции\n",
        "correlation = review_df[[\"user_score\", \"critical_score\", \"total_sales\"]].corr()[\"total_sales\"]\n",
        "\n",
        "print(\"Корреляция между отзывами и продажами:\")\n",
        "print(correlation)"
      ]
    },
    {
      "cell_type": "markdown",
      "metadata": {
        "id": "udDmaxzxw9kR"
      },
      "source": [
        "<b>Наблюдения:</b>\n",
        "\n",
        "На основе вычисленных значений корреляции, можно сделать следующие выводы о влиянии отзывов пользователей и критиков на продажи игр на выбранной платформе:\n",
        "\n",
        "* Корреляция между отзывами пользователей (user_score) и продажами игр (total_sales) очень слабая (0.088701). Это означает, что отзывы пользователей не оказывают значительного влияния на объем продаж игр на выбранной платформе.\n",
        "\n",
        "* Корреляция между отзывами критиков (critical_score) и продажами игр (total_sales) является средней (0.374838). Это указывает на более значимую связь между отзывами критиков и объемом продаж игр на выбранной платформе. Положительное значение корреляции говорит о том, что более высокие оценки критиков могут быть связаны с более высокими объемами продаж игр.\n",
        "\n",
        "На основе анализа корреляции можно сделать вывод, что отзывы критиков на выбранной платформе имеют более существенное влияние на объем продаж игр, чем отзывы пользователей."
      ]
    },
    {
      "cell_type": "code",
      "execution_count": null,
      "metadata": {
        "scrolled": false,
        "id": "MxlxyaCxw9kR",
        "outputId": "38319633-df22-442b-b719-1831c1eb15a3"
      },
      "outputs": [
        {
          "data": {
            "image/png": "[encoded data removed]",
            "text/plain": [
              "<Figure size 576x432 with 1 Axes>"
            ]
          },
          "metadata": {},
          "output_type": "display_data"
        },
        {
          "name": "stdout",
          "output_type": "stream",
          "text": [
            "Платформа: PS4\n",
            "Корреляция между отзывами и продажами:\n",
            "user_score       -0.064368\n",
            "critical_score    0.392074\n",
            "total_sales       1.000000\n",
            "Name: total_sales, dtype: float64\n",
            "-------------------------------------------\n"
          ]
        },
        {
          "data": {
            "image/png": "[encoded data removed]",
            "text/plain": [
              "<Figure size 576x432 with 1 Axes>"
            ]
          },
          "metadata": {},
          "output_type": "display_data"
        },
        {
          "name": "stdout",
          "output_type": "stream",
          "text": [
            "Платформа: XOne\n",
            "Корреляция между отзывами и продажами:\n",
            "user_score       -0.068684\n",
            "critical_score    0.422519\n",
            "total_sales       1.000000\n",
            "Name: total_sales, dtype: float64\n",
            "-------------------------------------------\n"
          ]
        },
        {
          "data": {
            "image/png": "[encoded data removed]",
            "text/plain": [
              "<Figure size 576x432 with 1 Axes>"
            ]
          },
          "metadata": {},
          "output_type": "display_data"
        },
        {
          "name": "stdout",
          "output_type": "stream",
          "text": [
            "Платформа: 3DS\n",
            "Корреляция между отзывами и продажами:\n",
            "user_score        0.240477\n",
            "critical_score    0.177575\n",
            "total_sales       1.000000\n",
            "Name: total_sales, dtype: float64\n",
            "-------------------------------------------\n"
          ]
        },
        {
          "data": {
            "image/png": "[encoded data removed]",
            "text/plain": [
              "<Figure size 576x432 with 1 Axes>"
            ]
          },
          "metadata": {},
          "output_type": "display_data"
        },
        {
          "name": "stdout",
          "output_type": "stream",
          "text": [
            "Платформа: WiiU\n",
            "Корреляция между отзывами и продажами:\n",
            "user_score        0.354987\n",
            "critical_score    0.325674\n",
            "total_sales       1.000000\n",
            "Name: total_sales, dtype: float64\n",
            "-------------------------------------------\n"
          ]
        },
        {
          "name": "stderr",
          "output_type": "stream",
          "text": [
            "No handles with labels found to put in legend.\n"
          ]
        },
        {
          "data": {
            "image/png": "[encoded data removed]",
            "text/plain": [
              "<Figure size 576x432 with 1 Axes>"
            ]
          },
          "metadata": {},
          "output_type": "display_data"
        },
        {
          "name": "stdout",
          "output_type": "stream",
          "text": [
            "Платформа: X360\n",
            "Корреляция между отзывами и продажами:\n",
            "user_score       NaN\n",
            "critical_score   NaN\n",
            "total_sales      NaN\n",
            "Name: total_sales, dtype: float64\n",
            "-------------------------------------------\n"
          ]
        },
        {
          "data": {
            "image/png": "[encoded data removed]",
            "text/plain": [
              "<Figure size 576x432 with 1 Axes>"
            ]
          },
          "metadata": {},
          "output_type": "display_data"
        },
        {
          "name": "stdout",
          "output_type": "stream",
          "text": [
            "Платформа: PC\n",
            "Корреляция между отзывами и продажами:\n",
            "user_score        0.140312\n",
            "critical_score    0.377332\n",
            "total_sales       1.000000\n",
            "Name: total_sales, dtype: float64\n",
            "-------------------------------------------\n"
          ]
        },
        {
          "name": "stderr",
          "output_type": "stream",
          "text": [
            "No handles with labels found to put in legend.\n"
          ]
        },
        {
          "data": {
            "image/png": "[encoded data removed]",
            "text/plain": [
              "<Figure size 576x432 with 1 Axes>"
            ]
          },
          "metadata": {},
          "output_type": "display_data"
        },
        {
          "name": "stdout",
          "output_type": "stream",
          "text": [
            "Платформа: Wii\n",
            "Корреляция между отзывами и продажами:\n",
            "user_score       NaN\n",
            "critical_score   NaN\n",
            "total_sales      NaN\n",
            "Name: total_sales, dtype: float64\n",
            "-------------------------------------------\n"
          ]
        },
        {
          "data": {
            "image/png": "[encoded data removed]",
            "text/plain": [
              "<Figure size 576x432 with 1 Axes>"
            ]
          },
          "metadata": {},
          "output_type": "display_data"
        },
        {
          "name": "stderr",
          "output_type": "stream",
          "text": [
            "No handles with labels found to put in legend.\n"
          ]
        },
        {
          "name": "stdout",
          "output_type": "stream",
          "text": [
            "Платформа: PSV\n",
            "Корреляция между отзывами и продажами:\n",
            "user_score       -0.185164\n",
            "critical_score    0.002749\n",
            "total_sales       1.000000\n",
            "Name: total_sales, dtype: float64\n",
            "-------------------------------------------\n"
          ]
        },
        {
          "data": {
            "image/png": "[encoded data removed]",
            "text/plain": [
              "<Figure size 576x432 with 1 Axes>"
            ]
          },
          "metadata": {},
          "output_type": "display_data"
        },
        {
          "name": "stdout",
          "output_type": "stream",
          "text": [
            "Платформа: PSP\n",
            "Корреляция между отзывами и продажами:\n",
            "user_score       NaN\n",
            "critical_score   NaN\n",
            "total_sales      NaN\n",
            "Name: total_sales, dtype: float64\n",
            "-------------------------------------------\n"
          ]
        }
      ],
      "source": [
        "platforms = filtered_df[filtered_df[\"platform\"] != 'PS3'][\"platform\"].unique()\n",
        "\n",
        "# Анализ влияния отзывов на продажи для каждой платформы\n",
        "for platform in platforms:\n",
        "    platform_df = filtered_df[filtered_df[\"platform\"] == platform]\n",
        "    review_columns = [\"user_score\", \"critical_score\", \"total_sales\"]\n",
        "    review_df = platform_df[review_columns].dropna()\n",
        "    correlation = review_df[[\"user_score\", \"critical_score\", \"total_sales\"]].corr()[\"total_sales\"]\n",
        "    # Построение графика рассеяния (scatter plot)\n",
        "    plt.figure(figsize=(8, 6))\n",
        "    sns.scatterplot(data=review_df, x=\"user_score\", y=\"total_sales\", label=\"User Score\")\n",
        "    sns.scatterplot(data=review_df, x=\"critical_score\", y=\"total_sales\", label=\"Critical Score\")\n",
        "    plt.xlabel(\"Отзывы\")\n",
        "    plt.ylabel(\"Глобальные продажи (млн копий)\")\n",
        "    plt.title(f\"Зависимость отзывов и продаж на платформе: {platform}\")\n",
        "    plt.legend()\n",
        "    plt.show()\n",
        "    print(f\"Платформа: {platform}\")\n",
        "    print(\"Корреляция между отзывами и продажами:\")\n",
        "    print(correlation)\n",
        "    print(\"-------------------------------------------\")"
      ]
    },
    {
      "cell_type": "markdown",
      "metadata": {
        "id": "DNa9mDhLw9kR"
      },
      "source": [
        "<b>Наблюдения:</b>\n",
        "\n",
        "На основании результатов корреляции между отзывами и продажами на различных платформах, можно сделать следующие наблюдения:\n",
        "* PS4 и XOne: Корреляция между отзывами пользователей (user_score) и продажами игр на платформах PS4 и XOne является отрицательной и слабой (приближаясь к нулю), что указывает на низкую взаимосвязь между отзывами пользователей и объемом продаж игр на данных платформах. Корреляция между отзывами критиков (critical_score) и продажами игр также слабая, но положительная. Это может указывать на то, что более высокие оценки критиков могут быть связаны с небольшим увеличением объема продаж игр на данных платформах.\n",
        "* 3DS и WiiU: Для платформ 3DS и WiiU корреляция между отзывами пользователей и продажами игр также слабая, но положительная, что может указывать на некоторую зависимость между отзывами пользователей и объемом продаж игр на данных платформах. Корреляция с отзывами критиков также является слабой и положительной, но она может быть более существенной по сравнению с отзывами пользователей.\n",
        "* PC и PSV: Для платформ PC и PSV корреляция между отзывами пользователей и продажами игр низкая, и в обоих случаях она отрицательная, что может указывать на низкую связь между отзывами пользователей и объемом продаж игр на данных платформах. Корреляция с отзывами критиков также слабая, но положительная, что может указывать на некоторую связь между отзывами критиков и объемом продаж игр на данных платформах.\n",
        "* X360, Wii и PSP: Для платформ X360, Wii и PSP значения корреляции между отзывами и продажами не содержат данных. Это может быть вызвано малым количеством данных или отсутствием данных для этих платформ, что делает невозможным вычисление корреляции.\n",
        "\n",
        "Влияние отзывов пользователей и критиков на объем продаж игр на разных платформах может быть различным. На некоторых платформах отзывы критиков могут оказывать большее влияние на продажи, чем отзывы пользователей, в то время как на других платформах влияние отзывов может быть менее значительным. Однако в целом, связь между отзывами и продажами игр на большинстве платформ остается относительно слабой. Для принятия взвешенных решений о рекламной компании интернет-магазина следует учитывать не только отзывы пользователей и критиков, но и другие факторы, такие как жанр игры, региональные предпочтения, срок жизни платформы и другие особенности рынка игровой индустрии."
      ]
    },
    {
      "cell_type": "code",
      "execution_count": null,
      "metadata": {
        "id": "EhTYw8-Uw9kS",
        "outputId": "b9dcb5f4-9719-4f9a-edae-12eadd6d14ef"
      },
      "outputs": [
        {
          "data": {
            "image/png": "[encoded data removed]",
            "text/plain": [
              "<Figure size 864x432 with 1 Axes>"
            ]
          },
          "metadata": {},
          "output_type": "display_data"
        }
      ],
      "source": [
        "genre_sum_sales = filtered_df.groupby('genre')['total_sales'].sum().sort_values(ascending=False)\n",
        "\n",
        "# Построение графика\n",
        "plt.figure(figsize=(12, 6))\n",
        "genre_sum_sales.plot(kind='bar')\n",
        "plt.title('Продажи игр по жанрам')\n",
        "plt.xlabel('Жанры')\n",
        "plt.ylabel('Суммарные продажи (в миллионах)')\n",
        "plt.show()"
      ]
    },
    {
      "cell_type": "code",
      "execution_count": null,
      "metadata": {
        "id": "xcRsAjz5w9kS",
        "outputId": "9380279f-90de-46d9-8ab6-89bde370ab1d"
      },
      "outputs": [
        {
          "data": {
            "image/png": "[encoded data removed]",
            "text/plain": [
              "<Figure size 864x432 with 1 Axes>"
            ]
          },
          "metadata": {},
          "output_type": "display_data"
        }
      ],
      "source": [
        "genre_median_sales = filtered_df.groupby('genre')['total_sales'].median().sort_values(ascending=False)\n",
        "\n",
        "# Построение графика\n",
        "plt.figure(figsize=(12, 6))\n",
        "genre_median_sales.plot(kind='bar')\n",
        "plt.title('Продажи игр по жанрам')\n",
        "plt.xlabel('Жанры')\n",
        "plt.ylabel('Медианные продажи (в миллионах)')\n",
        "plt.show()"
      ]
    },
    {
      "cell_type": "code",
      "execution_count": null,
      "metadata": {
        "id": "oRvmG0G_w9kS",
        "outputId": "923e3667-06e6-4acd-ab1c-83028b115768"
      },
      "outputs": [
        {
          "data": {
            "image/png": "[encoded data removed]",
            "text/plain": [
              "<Figure size 864x432 with 1 Axes>"
            ]
          },
          "metadata": {},
          "output_type": "display_data"
        }
      ],
      "source": [
        "genre_mean_sales = filtered_df.groupby('genre')['total_sales'].mean().sort_values(ascending=False)\n",
        "\n",
        "# Построение графика\n",
        "plt.figure(figsize=(12, 6))\n",
        "genre_mean_sales.plot(kind='bar')\n",
        "plt.title('Продажи игр по жанрам')\n",
        "plt.xlabel('Жанры')\n",
        "plt.ylabel('Средние продажи (в миллионах)')\n",
        "plt.show()"
      ]
    },
    {
      "cell_type": "code",
      "execution_count": null,
      "metadata": {
        "id": "DHln3Cc5w9kS",
        "outputId": "c00f22ae-82cb-4876-9031-f4a241a8d826"
      },
      "outputs": [
        {
          "data": {
            "image/png": "[encoded data removed]",
            "text/plain": [
              "<Figure size 864x432 with 1 Axes>"
            ]
          },
          "metadata": {},
          "output_type": "display_data"
        }
      ],
      "source": [
        "plt.figure(figsize=(12, 6))\n",
        "sns.boxplot(data=filtered_df, x=\"genre\", y=\"total_sales\")\n",
        "plt.title(\"Распределение продаж игр по жанрам\")\n",
        "plt.xlabel(\"Жанр\")\n",
        "plt.ylabel(\"Глобальные продажи (млн копий)\")\n",
        "plt.xticks(rotation=45)\n",
        "plt.ylim(0, 4)\n",
        "plt.show()"
      ]
    },
    {
      "cell_type": "markdown",
      "metadata": {
        "id": "-8I8aM47w9kT"
      },
      "source": [
        "<b>Наблюдения:</b>\n",
        "\n",
        "Анализируя полученные графики, можно сделать следующие наблюдения о самых прибыльных жанрах:\n",
        "\n",
        "* Самые прибыльные жанры по суммарным продажам: Жанры Action, Sports и Shooter являются самыми прибыльными, так как они занимают топовые позиции по суммарным продажам игр. Жанры Role-Playing (RPG) и Platform также имеют высокие суммарные продажи и находятся в числе прибыльных жанров.\n",
        "* Самые прибыльные жанры по медианным продажам: Жанр Shooter занимает первую позицию по медианным продажам, что означает, что в среднем игры данного жанра имеют хорошие продажи. Жанры Sports, Platform, и Racing также имеют высокие медианные продажи и считаются прибыльными жанрами.\n",
        "* Самые прибыльные жанры по средним продажам: Жанры Shooter, Sports и Racing являются самыми прибыльными с точки зрения средних продаж игр. Жанры Platform и Role-Playing также имеют высокие средние продажи и считаются прибыльными жанрами.\n",
        "\n",
        "Жанры Action, Sports, Shooter, Role-Playing показывают хорошие результаты как по суммарным, так и по медианным и средним продажам игр. Они являются наиболее перспективными и потенциально прибыльными для планирования рекламной компании интернет-магазина.\n"
      ]
    },
    {
      "cell_type": "markdown",
      "metadata": {
        "id": "jueo_ho5w9kT"
      },
      "source": [
        "##  Портрет пользователя для каждого региона"
      ]
    },
    {
      "cell_type": "code",
      "execution_count": null,
      "metadata": {
        "scrolled": false,
        "id": "3VjpyEv2w9kT",
        "outputId": "3cc527ab-bba3-4003-c2a7-d21b4df2210a"
      },
      "outputs": [
        {
          "data": {
            "image/png": "[encoded data removed]",
            "text/plain": [
              "<Figure size 1008x360 with 2 Axes>"
            ]
          },
          "metadata": {},
          "output_type": "display_data"
        },
        {
          "data": {
            "image/png": "[encoded data removed]",
            "text/plain": [
              "<Figure size 576x360 with 1 Axes>"
            ]
          },
          "metadata": {},
          "output_type": "display_data"
        },
        {
          "data": {
            "image/png": "[encoded data removed]",
            "text/plain": [
              "<Figure size 1008x360 with 2 Axes>"
            ]
          },
          "metadata": {},
          "output_type": "display_data"
        },
        {
          "data": {
            "image/png": "[encoded data removed]",
            "text/plain": [
              "<Figure size 576x360 with 1 Axes>"
            ]
          },
          "metadata": {},
          "output_type": "display_data"
        },
        {
          "data": {
            "image/png": "[encoded data removed]",
            "text/plain": [
              "<Figure size 1008x360 with 2 Axes>"
            ]
          },
          "metadata": {},
          "output_type": "display_data"
        },
        {
          "data": {
            "image/png": "[encoded data removed]",
            "text/plain": [
              "<Figure size 576x360 with 1 Axes>"
            ]
          },
          "metadata": {},
          "output_type": "display_data"
        }
      ],
      "source": [
        "# Функция для создания графиков продаж по регионам\n",
        "def plot_sales_by_region(data, region):\n",
        "    # Группировка данных по платформам и жанрам, и суммирование продаж\n",
        "    platform_sales = data.groupby('platform')[region + '_sales'].sum().sort_values(ascending=False).head(5)\n",
        "    genre_sales = data.groupby('genre')[region + '_sales'].sum().sort_values(ascending=False).head(5)\n",
        "    esrb_sales = data.groupby('rating')[region + '_sales'].sum()\n",
        "\n",
        "    # Построение графиков\n",
        "    plt.figure(figsize=(14, 5))\n",
        "    plt.subplot(1, 2, 1)\n",
        "    platform_sales.plot(kind='bar')\n",
        "    plt.title('Топ-5 платформ в регионе ' + region)\n",
        "    plt.xlabel('Платформы')\n",
        "    plt.ylabel('Продажи (в миллионах)')\n",
        "    plt.subplot(1, 2, 2)\n",
        "    genre_sales.plot(kind='bar')\n",
        "    plt.title('Топ-5 жанров в регионе ' + region)\n",
        "    plt.xlabel('Жанры')\n",
        "    plt.ylabel('Продажи (в миллионах)')\n",
        "    plt.tight_layout()\n",
        "    plt.show()\n",
        "    plt.figure(figsize=(8, 5))\n",
        "    sns.barplot(x=esrb_sales.index, y=esrb_sales.values)\n",
        "    plt.title('Продажи в зависимости от рейтинга ESRB в регионе ' + region)\n",
        "    plt.xlabel('Рейтинг ESRB')\n",
        "    plt.ylabel('Продажи (в миллионах)')\n",
        "    plt.show()\n",
        "\n",
        "# Список регионов\n",
        "regions = ['NA', 'EU', 'JP']\n",
        "\n",
        "# Анализ популярных платформ и жанров для каждого региона\n",
        "for region in regions:\n",
        "    plot_sales_by_region(filtered_df, region)"
      ]
    },
    {
      "cell_type": "markdown",
      "metadata": {
        "id": "L0Sj0kppw9kT"
      },
      "source": [
        "<b>Наблюдения:</b>\n",
        "\n",
        "На основе предоставленных графиков по анализу продаж игр в разных регионах (Северная Америка, Европа, Япония) можно сделать следующие наблюдения:\n",
        "* Топ-5 платформ в регионе NA (Северная Америка):\n",
        "    * В регионе NA наиболее популярными платформами являются \"X360\", \"PS4\", \"XOne\", \"PS3\" и \"3DS\".\n",
        "    * Платформа \"X360\" лидирует с наибольшими продажами в данном регионе.\n",
        "* Топ-5 платформ в регионе EU (Европа):\n",
        "    * В регионе EU популярными платформами являются \"PS3\", \"PS4\", \"X360\", \"XOne\" и \"3DS\".\n",
        "    * Платформа \"PS3\" имеет наибольшие продажи среди всех платформ в данном регионе.\n",
        "* Топ-5 платформ в регионе JP (Япония):\n",
        "    * В регионе JP наиболее популярными платформами являются \"3DS\", \"PS3\", \"PSV\", \"PS4\" и \"WiiU\".\n",
        "    * Платформа \"3DS\" лидирует с наибольшими продажами в данном регионе, что отражает сильную популярность портативных игровых устройств в Японии.\n",
        "* Топ-5 жанров в регионах NA, EU и JP:\n",
        "    * В регионах NA и EU наиболее популярными жанрами являются \"Action\", \"Shooter\", \"Sports\", \"Role-Playing\" и \"Misc\" (различные жанры).\n",
        "    * В регионе JP наибольшие продажи имеют игры жанров \"Role-Playing\", \"Action\", \"Misc\", \"Adventure\" и \"Fighting\".\n",
        "    * Можно заметить, что предпочтения в жанрах в регионе JP отличаются от NA и EU, что может быть связано с культурными особенностями и предпочтениями японских игроков.\n",
        "* Продажи в зависимости от рейтинга ESRB в каждом регионе:\n",
        "    * В регионах NA и EU наибольшие продажи имеют игры с рейтингами \"M\" (17+), \"E\" (для всех) и \"E10+\" (10+).\n",
        "    * В регионе JP наибольшие продажи у игр с рейтингами \"E\" (для всех) и \"T\" (подросткам 13+).\n",
        "    * Таким образом, рейтинг ESRB оказывает влияние на предпочтения игроков в разных регионах, и игры с разными рейтингами могут быть более популярны в разных странах.\n",
        "    \n",
        "Общим выводом можно сказать, что предпочтения и вкусы игроков различаются в разных регионах, и это важно учитывать при планировании рекламных кампаний и выпуске игр на различных игровых платформах. Эти наблюдения могут быть полезны для определения оптимальных стратегий маркетинга и продвижения продукции на разных рынках."
      ]
    },
    {
      "cell_type": "markdown",
      "metadata": {
        "id": "rtxJpYhXw9kU"
      },
      "source": [
        "##  Проверка гипотез"
      ]
    },
    {
      "cell_type": "markdown",
      "metadata": {
        "id": "1S6MZKkFw9kU"
      },
      "source": [
        "Для проверки гипотез о равенстве средних пользовательских рейтингов платформ Xbox One и PC, а также о различии средних пользовательских рейтингов жанров Action и Sports, будем использовать статистический тест, двухвыборочный t-тест. Применение t-теста обусловлено следующими причинами:\n",
        "* Распределение пользовательских рейтингов, как правило, приближается к нормальному распределению.\n",
        "* Размер выборки, в предположении, что выборки достаточно большие, позволяет использовать t-статистику для проверки гипотез.\n",
        "* Тест позволяет оценить различия между выборками и определить, являются ли эти различия статистически значимыми.\n",
        "\n",
        "**Нулевая гипотеза (H0) для первого случая:**\n",
        "*Средние пользовательские рейтинги платформ Xbox One и PC равны.*\n",
        "\n",
        "**Альтернативная гипотеза (H1) для первого случая:**\n",
        "*Средние пользовательские рейтинги платформ Xbox One и PC различаются.*\n",
        "\n",
        "**Нулевая гипотеза (H0) для второго случая:**\n",
        "*Средние пользовательские рейтинги жанров Action и Sports одинаковы.*\n",
        "\n",
        "**Альтернативная гипотеза (H1) для второго случая:**\n",
        "*Средние пользовательские рейтинги жанров Action и Sports различаются.*\n",
        "\n",
        "Пороговое значение alpha, которое определяет уровень значимости теста, выберем равным 0.05."
      ]
    },
    {
      "cell_type": "code",
      "execution_count": null,
      "metadata": {
        "scrolled": true,
        "id": "-nGX0B7Bw9kV",
        "outputId": "859e2e0f-73b7-4bee-e28b-4b891f4154ec"
      },
      "outputs": [
        {
          "name": "stdout",
          "output_type": "stream",
          "text": [
            "Результаты теста для платформ Xbox One и PC:\n",
            "t-статистика = 1.0515500933673056\n",
            "p-значение = 0.2946308864003345\n",
            "Нет оснований отвергнуть нулевую гипотезу: средние пользовательские рейтинги платформ равны\n"
          ]
        }
      ],
      "source": [
        "# Выборки рейтингов для платформ Xbox One и PC\n",
        "ratings_xbox = filtered_df[filtered_df['platform'] == 'XOne']['user_score']\n",
        "ratings_pc = filtered_df[filtered_df['platform'] == 'PC']['user_score']\n",
        "# Удаление пропущенных значений в выборках\n",
        "ratings_xbox = ratings_xbox.dropna()\n",
        "ratings_pc = ratings_pc.dropna()\n",
        "# Проведение двухвыборочного t-теста для платформ\n",
        "alpha = 0.05\n",
        "t_statistic, p_value = ttest_ind(ratings_xbox, ratings_pc, equal_var=False)\n",
        "\n",
        "# Вывод результатов\n",
        "print(\"Результаты теста для платформ Xbox One и PC:\")\n",
        "print(\"t-статистика =\", t_statistic)\n",
        "print(\"p-значение =\", p_value)\n",
        "if p_value < alpha:\n",
        "    print(\"Нулевая гипотеза отвергается: средние пользовательские рейтинги платформ различаются\")\n",
        "else:\n",
        "    print(\"Нет оснований отвергнуть нулевую гипотезу: средние пользовательские рейтинги платформ равны\")"
      ]
    },
    {
      "cell_type": "code",
      "execution_count": null,
      "metadata": {
        "id": "pis6sKD9w9kW",
        "outputId": "d8ec3d62-6424-4a0c-8abb-8a1290e43904"
      },
      "outputs": [
        {
          "name": "stdout",
          "output_type": "stream",
          "text": [
            "Результаты теста для жанров Action и Sports:\n",
            "t-статистика = 6.764121363817531\n",
            "p-значение = 5.97163549920592e-10\n",
            "Нулевая гипотеза отвергается: средние пользовательские рейтинги жанров различаются\n"
          ]
        }
      ],
      "source": [
        "# Выборки рейтингов для жанров Action и Sports\n",
        "ratings_action = filtered_df[filtered_df['genre'] == 'Action']['user_score']\n",
        "ratings_sports = filtered_df[filtered_df['genre'] == 'Sports']['user_score']\n",
        "# Удаление пропущенных значений в выборках\n",
        "ratings_action = ratings_action.dropna()\n",
        "ratings_sports = ratings_sports.dropna()\n",
        "# Проведение двухвыборочного t-теста для жанров\n",
        "t_statistic, p_value = ttest_ind(ratings_action, ratings_sports, equal_var=False)\n",
        "\n",
        "# Вывод результатов\n",
        "print(\"Результаты теста для жанров Action и Sports:\")\n",
        "print(\"t-статистика =\", t_statistic)\n",
        "print(\"p-значение =\", p_value)\n",
        "if p_value < alpha:\n",
        "    print(\"Нулевая гипотеза отвергается: средние пользовательские рейтинги жанров различаются\")\n",
        "else:\n",
        "    print(\"Нет оснований отвергнуть нулевую гипотезу: средние пользовательские рейтинги жанров одинаковы\")\n"
      ]
    },
    {
      "cell_type": "markdown",
      "metadata": {
        "id": "yJtReUHyw9kW"
      },
      "source": [
        "##  Общий вывод"
      ]
    },
    {
      "cell_type": "markdown",
      "metadata": {
        "id": "xdYZSbvCw9kW"
      },
      "source": [
        "В ходе работы были выполнено следующее:\n",
        "* **Анализ данных и подготовка:** Исходный датафрейм был проанализирован и подготовлен к анализу. Были выполнены следующие действия:\n",
        "    * Изучение данных и замена некорректных значений.\n",
        "    * Обработка пропущенных значений, удаление дубликатов.\n",
        "    * Преобразование данных в нужные типы и форматы.\n",
        "    * Вычисление суммарной выручки по играм.\n",
        "* **Анализ продаж по годам и платформам:** Был проведен анализ количества выпущенных игр по годам, а также суммарных продаж по платформам. На основе анализа данных за актуальный период были выделены несколько потенциально прибыльных платформ для рекламной компании.\n",
        "* **Сравнение пользовательских рейтингов платформ:** Проведен статистический тест Стьюдента для сравнения пользовательских рейтингов платформ Xbox One и PC. Результаты теста показали, что нет статистически значимой разницы между средними пользовательскими рейтингами на этих платформах. Рекомендуется уделить внимание обеим платформам при планировании рекламной компании.\n",
        "* **Сравнение пользовательских рейтингов жанров:** Проведен статистический тест Стьюдента для сравнения пользовательских рейтингов жанров Action и Sports. Результаты теста показали, что есть статистически значимая разница между средними пользовательскими рейтингами в этих жанрах. Рекомендуется уделить больше внимания играм жанра Action, которые имеют потенциал быть более популярными среди пользователей.\n",
        "\n",
        "\n",
        "**Рекомендации для бизнеса:**\n",
        "* *Приоритизация платформ:* Рекомендуется обратить внимание на платформы Xbox One и PC, так как они показывают схожие средние пользовательские рейтинги и имеют потенциал быть успешными для рекламной компании.\n",
        "* *Акцент на жанр Action:* Стоит уделить особое внимание играм жанра Action, так как они показывают статистически значимо более высокие пользовательские рейтинги по сравнению с жанром Sports. Оптимизировать рекламную компанию на основе игр жанра Action может привести к большему интересу и продажам.\n",
        "* *Учет региональных различий:* Рекомендуется учитывать региональные предпочтения и особенности рынка, так как в различных регионах популярность платформ и жанров может различаться. Исследуйте региональные данные и адаптируйте рекламные стратегии под конкретные рынки.\n",
        "* *Упор на качество:* Концентрируйтесь на создании высококачественных игр, которые будут получать положительные отзывы от пользователей и критиков. Положительные отзывы способствуют росту интереса к играм и их продажам.\n",
        "* *Анализ и отслеживание результатов:* После запуска рекламной компании, важно проводить постоянный анализ и отслеживать результаты, чтобы оптимизировать стратегии и адаптироваться к изменениям на рынке.\n",
        "\n",
        "Предоставленные рекомендации помогут интернет-магазину сфокусироваться на потенциально успешных продуктах и создать эффективную рекламную кампанию. Регулярный мониторинг рынка и анализ данных поможет бизнесу оставаться конкурентоспособным и успешным."
      ]
    }
  ],
  "metadata": {
    "ExecuteTimeLog": [
      {
        "duration": 1592,
        "start_time": "2023-07-08T17:25:54.601Z"
      },
      {
        "duration": 3,
        "start_time": "2023-07-08T17:26:03.833Z"
      },
      {
        "duration": 157,
        "start_time": "2023-07-08T17:26:46.340Z"
      },
      {
        "duration": 155,
        "start_time": "2023-07-08T17:30:07.362Z"
      },
      {
        "duration": 9,
        "start_time": "2023-07-08T17:30:10.201Z"
      },
      {
        "duration": 125,
        "start_time": "2023-07-08T17:30:14.603Z"
      },
      {
        "duration": 19,
        "start_time": "2023-07-08T17:30:15.919Z"
      },
      {
        "duration": 24,
        "start_time": "2023-07-08T17:30:24.199Z"
      },
      {
        "duration": 21,
        "start_time": "2023-07-08T17:30:33.366Z"
      },
      {
        "duration": 40,
        "start_time": "2023-07-08T17:30:37.298Z"
      },
      {
        "duration": 4,
        "start_time": "2023-07-08T17:34:27.453Z"
      },
      {
        "duration": 16,
        "start_time": "2023-07-08T17:34:30.625Z"
      },
      {
        "duration": 21,
        "start_time": "2023-07-08T17:34:48.827Z"
      },
      {
        "duration": 22,
        "start_time": "2023-07-08T17:34:58.203Z"
      },
      {
        "duration": 12,
        "start_time": "2023-07-08T17:53:04.495Z"
      },
      {
        "duration": 10,
        "start_time": "2023-07-08T17:53:47.732Z"
      },
      {
        "duration": 10,
        "start_time": "2023-07-08T17:56:13.358Z"
      },
      {
        "duration": 18,
        "start_time": "2023-07-08T17:56:18.511Z"
      },
      {
        "duration": 13,
        "start_time": "2023-07-08T18:00:16.499Z"
      },
      {
        "duration": 24,
        "start_time": "2023-07-08T18:00:24.206Z"
      },
      {
        "duration": 35,
        "start_time": "2023-07-08T18:00:58.007Z"
      },
      {
        "duration": 8,
        "start_time": "2023-07-08T18:01:37.400Z"
      },
      {
        "duration": 25,
        "start_time": "2023-07-08T18:01:42.101Z"
      },
      {
        "duration": 25,
        "start_time": "2023-07-08T18:01:55.935Z"
      },
      {
        "duration": 15,
        "start_time": "2023-07-08T18:02:35.569Z"
      },
      {
        "duration": 16,
        "start_time": "2023-07-08T18:03:00.568Z"
      },
      {
        "duration": 12,
        "start_time": "2023-07-08T18:03:06.996Z"
      },
      {
        "duration": 85,
        "start_time": "2023-07-08T18:03:41.602Z"
      },
      {
        "duration": 17,
        "start_time": "2023-07-08T18:03:47.403Z"
      },
      {
        "duration": 8,
        "start_time": "2023-07-08T18:04:07.459Z"
      },
      {
        "duration": 7,
        "start_time": "2023-07-08T18:04:39.187Z"
      },
      {
        "duration": 7,
        "start_time": "2023-07-08T18:06:03.459Z"
      },
      {
        "duration": 9,
        "start_time": "2023-07-08T18:06:07.768Z"
      },
      {
        "duration": 25,
        "start_time": "2023-07-08T18:06:59.738Z"
      },
      {
        "duration": 19,
        "start_time": "2023-07-08T18:07:01.958Z"
      },
      {
        "duration": 12,
        "start_time": "2023-07-08T18:07:07.687Z"
      },
      {
        "duration": 6,
        "start_time": "2023-07-08T18:10:27.666Z"
      },
      {
        "duration": 8,
        "start_time": "2023-07-08T18:10:32.344Z"
      },
      {
        "duration": 6,
        "start_time": "2023-07-08T18:14:21.402Z"
      },
      {
        "duration": 515,
        "start_time": "2023-07-08T18:17:42.870Z"
      },
      {
        "duration": 29,
        "start_time": "2023-07-08T18:18:49.043Z"
      },
      {
        "duration": 30,
        "start_time": "2023-07-08T18:19:39.161Z"
      },
      {
        "duration": 20,
        "start_time": "2023-07-08T18:21:02.591Z"
      },
      {
        "duration": 137,
        "start_time": "2023-07-08T18:22:02.707Z"
      },
      {
        "duration": 48,
        "start_time": "2023-07-08T18:22:53.462Z"
      },
      {
        "duration": 80,
        "start_time": "2023-07-08T18:25:31.226Z"
      },
      {
        "duration": 24,
        "start_time": "2023-07-08T18:26:19.477Z"
      },
      {
        "duration": 28,
        "start_time": "2023-07-08T18:26:26.229Z"
      },
      {
        "duration": 26,
        "start_time": "2023-07-08T18:27:14.642Z"
      },
      {
        "duration": 35,
        "start_time": "2023-07-08T18:28:00.833Z"
      },
      {
        "duration": 56,
        "start_time": "2023-07-08T18:29:03.256Z"
      },
      {
        "duration": 87,
        "start_time": "2023-07-08T18:29:47.270Z"
      },
      {
        "duration": 55,
        "start_time": "2023-07-08T18:30:24.553Z"
      },
      {
        "duration": 86,
        "start_time": "2023-07-08T18:31:03.319Z"
      },
      {
        "duration": 55,
        "start_time": "2023-07-08T18:32:59.341Z"
      },
      {
        "duration": 91,
        "start_time": "2023-07-08T18:33:29.577Z"
      },
      {
        "duration": 15,
        "start_time": "2023-07-08T18:35:27.294Z"
      },
      {
        "duration": 17,
        "start_time": "2023-07-08T18:36:30.742Z"
      },
      {
        "duration": 20,
        "start_time": "2023-07-08T18:38:43.141Z"
      },
      {
        "duration": 21,
        "start_time": "2023-07-08T18:39:13.649Z"
      },
      {
        "duration": 1714,
        "start_time": "2023-07-08T18:40:11.271Z"
      },
      {
        "duration": 5,
        "start_time": "2023-07-08T18:40:22.754Z"
      },
      {
        "duration": 6,
        "start_time": "2023-07-08T18:42:04.046Z"
      },
      {
        "duration": 7,
        "start_time": "2023-07-08T18:42:10.651Z"
      },
      {
        "duration": 6,
        "start_time": "2023-07-08T18:43:37.500Z"
      },
      {
        "duration": 1566,
        "start_time": "2023-07-11T05:58:23.030Z"
      },
      {
        "duration": 4,
        "start_time": "2023-07-11T05:58:24.751Z"
      },
      {
        "duration": 176,
        "start_time": "2023-07-11T05:58:26.013Z"
      },
      {
        "duration": 25,
        "start_time": "2023-07-11T05:58:27.758Z"
      },
      {
        "duration": 3,
        "start_time": "2023-07-11T05:58:31.692Z"
      },
      {
        "duration": 17,
        "start_time": "2023-07-11T05:58:33.162Z"
      },
      {
        "duration": 5,
        "start_time": "2023-07-11T05:58:35.910Z"
      },
      {
        "duration": 12,
        "start_time": "2023-07-11T05:58:37.838Z"
      },
      {
        "duration": 5,
        "start_time": "2023-07-11T05:58:40.810Z"
      },
      {
        "duration": 7,
        "start_time": "2023-07-11T05:58:42.098Z"
      },
      {
        "duration": 5,
        "start_time": "2023-07-11T05:58:44.004Z"
      },
      {
        "duration": 6,
        "start_time": "2023-07-11T05:58:45.429Z"
      },
      {
        "duration": 7,
        "start_time": "2023-07-11T05:58:46.932Z"
      },
      {
        "duration": 33,
        "start_time": "2023-07-11T05:58:48.310Z"
      },
      {
        "duration": 14,
        "start_time": "2023-07-11T05:58:59.002Z"
      },
      {
        "duration": 10,
        "start_time": "2023-07-11T05:59:00.702Z"
      },
      {
        "duration": 6,
        "start_time": "2023-07-11T05:59:03.826Z"
      },
      {
        "duration": 9,
        "start_time": "2023-07-11T05:59:05.214Z"
      },
      {
        "duration": 1225,
        "start_time": "2023-07-11T05:59:19.962Z"
      },
      {
        "duration": 3,
        "start_time": "2023-07-11T05:59:21.201Z"
      },
      {
        "duration": 169,
        "start_time": "2023-07-11T05:59:22.406Z"
      },
      {
        "duration": 17,
        "start_time": "2023-07-11T05:59:23.728Z"
      },
      {
        "duration": 3,
        "start_time": "2023-07-11T05:59:30.306Z"
      },
      {
        "duration": 14,
        "start_time": "2023-07-11T05:59:31.610Z"
      },
      {
        "duration": 10,
        "start_time": "2023-07-11T05:59:33.760Z"
      },
      {
        "duration": 7,
        "start_time": "2023-07-11T05:59:44.155Z"
      },
      {
        "duration": 7,
        "start_time": "2023-07-11T05:59:46.771Z"
      },
      {
        "duration": 11,
        "start_time": "2023-07-11T05:59:48.577Z"
      },
      {
        "duration": 8,
        "start_time": "2023-07-11T05:59:52.066Z"
      },
      {
        "duration": 7,
        "start_time": "2023-07-11T05:59:54.031Z"
      },
      {
        "duration": 5,
        "start_time": "2023-07-11T05:59:59.523Z"
      },
      {
        "duration": 5,
        "start_time": "2023-07-11T06:00:02.214Z"
      },
      {
        "duration": 5,
        "start_time": "2023-07-11T06:00:04.402Z"
      },
      {
        "duration": 7,
        "start_time": "2023-07-11T06:00:11.160Z"
      },
      {
        "duration": 8,
        "start_time": "2023-07-11T06:00:13.157Z"
      },
      {
        "duration": 11,
        "start_time": "2023-07-11T06:00:14.766Z"
      },
      {
        "duration": 5,
        "start_time": "2023-07-11T06:00:26.298Z"
      },
      {
        "duration": 5,
        "start_time": "2023-07-11T06:00:27.906Z"
      },
      {
        "duration": 12,
        "start_time": "2023-07-11T06:02:10.621Z"
      },
      {
        "duration": 1397,
        "start_time": "2023-07-11T06:02:24.549Z"
      },
      {
        "duration": 3,
        "start_time": "2023-07-11T06:02:25.948Z"
      },
      {
        "duration": 180,
        "start_time": "2023-07-11T06:02:25.952Z"
      },
      {
        "duration": 18,
        "start_time": "2023-07-11T06:02:26.134Z"
      },
      {
        "duration": 3,
        "start_time": "2023-07-11T06:02:26.154Z"
      },
      {
        "duration": 22,
        "start_time": "2023-07-11T06:02:26.164Z"
      },
      {
        "duration": 4,
        "start_time": "2023-07-11T06:02:26.188Z"
      },
      {
        "duration": 17,
        "start_time": "2023-07-11T06:02:26.194Z"
      },
      {
        "duration": 20,
        "start_time": "2023-07-11T06:02:26.213Z"
      },
      {
        "duration": 4,
        "start_time": "2023-07-11T06:02:26.236Z"
      },
      {
        "duration": 17,
        "start_time": "2023-07-11T06:02:26.241Z"
      },
      {
        "duration": 9,
        "start_time": "2023-07-11T06:02:26.266Z"
      },
      {
        "duration": 19,
        "start_time": "2023-07-11T06:02:26.277Z"
      },
      {
        "duration": 6,
        "start_time": "2023-07-11T06:02:26.297Z"
      },
      {
        "duration": 5,
        "start_time": "2023-07-11T06:02:33.406Z"
      },
      {
        "duration": 6,
        "start_time": "2023-07-11T06:02:34.876Z"
      },
      {
        "duration": 5,
        "start_time": "2023-07-11T06:02:36.630Z"
      },
      {
        "duration": 57,
        "start_time": "2023-07-11T07:45:58.891Z"
      },
      {
        "duration": 1427,
        "start_time": "2023-07-11T07:46:05.696Z"
      },
      {
        "duration": 3,
        "start_time": "2023-07-11T07:46:07.125Z"
      },
      {
        "duration": 235,
        "start_time": "2023-07-11T07:46:07.129Z"
      },
      {
        "duration": 25,
        "start_time": "2023-07-11T07:46:07.365Z"
      },
      {
        "duration": 3,
        "start_time": "2023-07-11T07:46:07.393Z"
      },
      {
        "duration": 16,
        "start_time": "2023-07-11T07:46:07.398Z"
      },
      {
        "duration": 4,
        "start_time": "2023-07-11T07:46:07.415Z"
      },
      {
        "duration": 5,
        "start_time": "2023-07-11T07:46:07.421Z"
      },
      {
        "duration": 10,
        "start_time": "2023-07-11T07:46:07.428Z"
      },
      {
        "duration": 34,
        "start_time": "2023-07-11T07:46:07.440Z"
      },
      {
        "duration": 14,
        "start_time": "2023-07-11T07:46:07.475Z"
      },
      {
        "duration": 8,
        "start_time": "2023-07-11T07:46:07.497Z"
      },
      {
        "duration": 6,
        "start_time": "2023-07-11T07:46:07.506Z"
      },
      {
        "duration": 6,
        "start_time": "2023-07-11T07:46:07.516Z"
      },
      {
        "duration": 6,
        "start_time": "2023-07-11T07:46:07.524Z"
      },
      {
        "duration": 7,
        "start_time": "2023-07-11T07:46:07.532Z"
      },
      {
        "duration": 581,
        "start_time": "2023-07-11T07:46:07.542Z"
      },
      {
        "duration": 340,
        "start_time": "2023-07-11T07:46:13.100Z"
      },
      {
        "duration": 3,
        "start_time": "2023-07-11T07:46:36.153Z"
      },
      {
        "duration": 1170,
        "start_time": "2023-07-11T07:46:37.369Z"
      },
      {
        "duration": 133,
        "start_time": "2023-07-12T04:36:50.115Z"
      },
      {
        "duration": 1249,
        "start_time": "2023-07-12T04:36:58.537Z"
      },
      {
        "duration": 3,
        "start_time": "2023-07-12T04:36:59.788Z"
      },
      {
        "duration": 186,
        "start_time": "2023-07-12T04:36:59.792Z"
      },
      {
        "duration": 16,
        "start_time": "2023-07-12T04:36:59.980Z"
      },
      {
        "duration": 12,
        "start_time": "2023-07-12T04:36:59.998Z"
      },
      {
        "duration": 72,
        "start_time": "2023-07-12T04:37:00.012Z"
      },
      {
        "duration": 37,
        "start_time": "2023-07-12T04:37:00.086Z"
      },
      {
        "duration": 23,
        "start_time": "2023-07-12T04:37:00.125Z"
      },
      {
        "duration": 32,
        "start_time": "2023-07-12T04:37:00.150Z"
      },
      {
        "duration": 32,
        "start_time": "2023-07-12T04:37:00.185Z"
      },
      {
        "duration": 87,
        "start_time": "2023-07-12T04:37:00.231Z"
      },
      {
        "duration": 47,
        "start_time": "2023-07-12T04:37:00.320Z"
      },
      {
        "duration": 83,
        "start_time": "2023-07-12T04:37:00.369Z"
      },
      {
        "duration": 37,
        "start_time": "2023-07-12T04:37:00.453Z"
      },
      {
        "duration": 37,
        "start_time": "2023-07-12T04:37:00.492Z"
      },
      {
        "duration": 5200,
        "start_time": "2023-07-12T04:37:00.531Z"
      },
      {
        "duration": 13,
        "start_time": "2023-07-12T04:38:01.242Z"
      },
      {
        "duration": 6,
        "start_time": "2023-07-12T04:38:05.686Z"
      },
      {
        "duration": 15,
        "start_time": "2023-07-12T04:38:18.767Z"
      },
      {
        "duration": 6,
        "start_time": "2023-07-12T04:38:20.301Z"
      },
      {
        "duration": 79,
        "start_time": "2023-07-12T04:38:32.937Z"
      },
      {
        "duration": 11,
        "start_time": "2023-07-12T04:38:37.338Z"
      },
      {
        "duration": 5,
        "start_time": "2023-07-12T04:38:39.730Z"
      },
      {
        "duration": 1195,
        "start_time": "2023-07-12T04:38:46.473Z"
      },
      {
        "duration": 14,
        "start_time": "2023-07-12T04:38:47.669Z"
      },
      {
        "duration": 165,
        "start_time": "2023-07-12T04:38:47.686Z"
      },
      {
        "duration": 17,
        "start_time": "2023-07-12T04:38:47.853Z"
      },
      {
        "duration": 6,
        "start_time": "2023-07-12T04:38:47.872Z"
      },
      {
        "duration": 45,
        "start_time": "2023-07-12T04:38:47.879Z"
      },
      {
        "duration": 6,
        "start_time": "2023-07-12T04:38:47.926Z"
      },
      {
        "duration": 9,
        "start_time": "2023-07-12T04:38:47.934Z"
      },
      {
        "duration": 21,
        "start_time": "2023-07-12T04:38:47.944Z"
      },
      {
        "duration": 5,
        "start_time": "2023-07-12T04:38:47.968Z"
      },
      {
        "duration": 33,
        "start_time": "2023-07-12T04:38:47.975Z"
      },
      {
        "duration": 7,
        "start_time": "2023-07-12T04:38:48.009Z"
      },
      {
        "duration": 11,
        "start_time": "2023-07-12T04:38:48.018Z"
      },
      {
        "duration": 12,
        "start_time": "2023-07-12T04:38:48.031Z"
      },
      {
        "duration": 14,
        "start_time": "2023-07-12T04:38:48.045Z"
      },
      {
        "duration": 103,
        "start_time": "2023-07-12T04:39:14.388Z"
      },
      {
        "duration": 13,
        "start_time": "2023-07-12T04:39:46.915Z"
      },
      {
        "duration": 5,
        "start_time": "2023-07-12T04:40:26.030Z"
      },
      {
        "duration": 4,
        "start_time": "2023-07-12T04:40:28.388Z"
      },
      {
        "duration": 10,
        "start_time": "2023-07-12T04:40:38.437Z"
      },
      {
        "duration": 8,
        "start_time": "2023-07-12T04:40:40.592Z"
      },
      {
        "duration": 4,
        "start_time": "2023-07-12T04:40:42.206Z"
      },
      {
        "duration": 45,
        "start_time": "2023-07-12T04:40:56.784Z"
      },
      {
        "duration": 1250,
        "start_time": "2023-07-12T04:41:00.456Z"
      },
      {
        "duration": 3,
        "start_time": "2023-07-12T04:41:01.708Z"
      },
      {
        "duration": 282,
        "start_time": "2023-07-12T04:41:01.712Z"
      },
      {
        "duration": 16,
        "start_time": "2023-07-12T04:41:01.996Z"
      },
      {
        "duration": 20,
        "start_time": "2023-07-12T04:41:02.014Z"
      },
      {
        "duration": 48,
        "start_time": "2023-07-12T04:41:02.035Z"
      },
      {
        "duration": 22,
        "start_time": "2023-07-12T04:41:02.091Z"
      },
      {
        "duration": 41,
        "start_time": "2023-07-12T04:41:02.114Z"
      },
      {
        "duration": 38,
        "start_time": "2023-07-12T04:41:02.156Z"
      },
      {
        "duration": 14,
        "start_time": "2023-07-12T04:41:02.196Z"
      },
      {
        "duration": 22,
        "start_time": "2023-07-12T04:41:02.212Z"
      },
      {
        "duration": 17,
        "start_time": "2023-07-12T04:41:02.236Z"
      },
      {
        "duration": 36,
        "start_time": "2023-07-12T04:41:02.255Z"
      },
      {
        "duration": 18,
        "start_time": "2023-07-12T04:41:02.294Z"
      },
      {
        "duration": 13,
        "start_time": "2023-07-12T04:41:02.313Z"
      },
      {
        "duration": 6,
        "start_time": "2023-07-12T04:41:03.496Z"
      },
      {
        "duration": 5,
        "start_time": "2023-07-12T04:41:07.958Z"
      },
      {
        "duration": 4,
        "start_time": "2023-07-12T04:41:26.041Z"
      },
      {
        "duration": 5,
        "start_time": "2023-07-12T04:41:27.838Z"
      },
      {
        "duration": 1279,
        "start_time": "2023-07-12T04:42:16.234Z"
      },
      {
        "duration": 771,
        "start_time": "2023-07-12T04:42:32.774Z"
      },
      {
        "duration": 741,
        "start_time": "2023-07-12T04:42:34.532Z"
      },
      {
        "duration": 654,
        "start_time": "2023-07-12T04:42:43.123Z"
      },
      {
        "duration": 798,
        "start_time": "2023-07-12T04:43:08.015Z"
      },
      {
        "duration": 10,
        "start_time": "2023-07-12T04:43:51.776Z"
      },
      {
        "duration": 5,
        "start_time": "2023-07-12T04:43:53.631Z"
      },
      {
        "duration": 8,
        "start_time": "2023-07-12T04:43:58.419Z"
      },
      {
        "duration": 5,
        "start_time": "2023-07-12T04:43:59.608Z"
      },
      {
        "duration": 21,
        "start_time": "2023-07-12T04:44:55.364Z"
      },
      {
        "duration": 1311,
        "start_time": "2023-07-12T04:44:59.921Z"
      },
      {
        "duration": 967,
        "start_time": "2023-07-12T04:45:26.983Z"
      },
      {
        "duration": 1273,
        "start_time": "2023-07-12T04:45:39.313Z"
      },
      {
        "duration": 2,
        "start_time": "2023-07-12T04:45:40.588Z"
      },
      {
        "duration": 206,
        "start_time": "2023-07-12T04:45:40.592Z"
      },
      {
        "duration": 22,
        "start_time": "2023-07-12T04:45:40.801Z"
      },
      {
        "duration": 4,
        "start_time": "2023-07-12T04:45:40.824Z"
      },
      {
        "duration": 40,
        "start_time": "2023-07-12T04:45:40.829Z"
      },
      {
        "duration": 14,
        "start_time": "2023-07-12T04:45:40.870Z"
      },
      {
        "duration": 30,
        "start_time": "2023-07-12T04:45:40.886Z"
      },
      {
        "duration": 29,
        "start_time": "2023-07-12T04:45:40.918Z"
      },
      {
        "duration": 7,
        "start_time": "2023-07-12T04:45:40.950Z"
      },
      {
        "duration": 38,
        "start_time": "2023-07-12T04:45:40.959Z"
      },
      {
        "duration": 8,
        "start_time": "2023-07-12T04:45:40.998Z"
      },
      {
        "duration": 7,
        "start_time": "2023-07-12T04:45:41.007Z"
      },
      {
        "duration": 9,
        "start_time": "2023-07-12T04:45:41.015Z"
      },
      {
        "duration": 8,
        "start_time": "2023-07-12T04:45:41.025Z"
      },
      {
        "duration": 945,
        "start_time": "2023-07-12T04:45:42.158Z"
      },
      {
        "duration": 1267,
        "start_time": "2023-07-12T04:46:03.953Z"
      },
      {
        "duration": 3,
        "start_time": "2023-07-12T04:46:05.222Z"
      },
      {
        "duration": 175,
        "start_time": "2023-07-12T04:46:05.227Z"
      },
      {
        "duration": 16,
        "start_time": "2023-07-12T04:46:05.404Z"
      },
      {
        "duration": 3,
        "start_time": "2023-07-12T04:46:05.422Z"
      },
      {
        "duration": 21,
        "start_time": "2023-07-12T04:46:05.426Z"
      },
      {
        "duration": 5,
        "start_time": "2023-07-12T04:46:05.449Z"
      },
      {
        "duration": 25,
        "start_time": "2023-07-12T04:46:05.455Z"
      },
      {
        "duration": 22,
        "start_time": "2023-07-12T04:46:05.482Z"
      },
      {
        "duration": 4,
        "start_time": "2023-07-12T04:46:05.506Z"
      },
      {
        "duration": 9,
        "start_time": "2023-07-12T04:46:05.511Z"
      },
      {
        "duration": 5,
        "start_time": "2023-07-12T04:46:05.522Z"
      },
      {
        "duration": 7,
        "start_time": "2023-07-12T04:46:05.528Z"
      },
      {
        "duration": 8,
        "start_time": "2023-07-12T04:46:05.536Z"
      },
      {
        "duration": 9,
        "start_time": "2023-07-12T04:46:05.545Z"
      },
      {
        "duration": 4134,
        "start_time": "2023-07-12T04:46:06.991Z"
      },
      {
        "duration": 1245,
        "start_time": "2023-07-12T04:47:02.441Z"
      },
      {
        "duration": 3,
        "start_time": "2023-07-12T04:47:03.693Z"
      },
      {
        "duration": 320,
        "start_time": "2023-07-12T04:47:03.697Z"
      },
      {
        "duration": 17,
        "start_time": "2023-07-12T04:47:04.019Z"
      },
      {
        "duration": 5,
        "start_time": "2023-07-12T04:47:04.038Z"
      },
      {
        "duration": 25,
        "start_time": "2023-07-12T04:47:04.044Z"
      },
      {
        "duration": 4,
        "start_time": "2023-07-12T04:47:04.071Z"
      },
      {
        "duration": 27,
        "start_time": "2023-07-12T04:47:04.077Z"
      },
      {
        "duration": 13,
        "start_time": "2023-07-12T04:47:04.105Z"
      },
      {
        "duration": 7,
        "start_time": "2023-07-12T04:47:04.121Z"
      },
      {
        "duration": 12,
        "start_time": "2023-07-12T04:47:04.130Z"
      },
      {
        "duration": 8,
        "start_time": "2023-07-12T04:47:04.143Z"
      },
      {
        "duration": 11,
        "start_time": "2023-07-12T04:47:04.152Z"
      },
      {
        "duration": 7,
        "start_time": "2023-07-12T04:47:04.164Z"
      },
      {
        "duration": 9,
        "start_time": "2023-07-12T04:47:04.172Z"
      },
      {
        "duration": 20,
        "start_time": "2023-07-12T04:47:04.183Z"
      },
      {
        "duration": 7,
        "start_time": "2023-07-12T04:47:04.204Z"
      },
      {
        "duration": 30,
        "start_time": "2023-07-12T04:47:04.214Z"
      },
      {
        "duration": 12,
        "start_time": "2023-07-12T04:47:04.245Z"
      },
      {
        "duration": 10,
        "start_time": "2023-07-12T04:47:04.258Z"
      },
      {
        "duration": 11,
        "start_time": "2023-07-12T04:47:04.276Z"
      },
      {
        "duration": 13,
        "start_time": "2023-07-12T04:47:04.291Z"
      },
      {
        "duration": 765,
        "start_time": "2023-07-12T04:47:16.686Z"
      },
      {
        "duration": 6,
        "start_time": "2023-07-12T04:47:26.403Z"
      },
      {
        "duration": 4,
        "start_time": "2023-07-12T04:47:27.632Z"
      },
      {
        "duration": 1235,
        "start_time": "2023-07-12T04:47:45.488Z"
      },
      {
        "duration": 3,
        "start_time": "2023-07-12T04:47:46.725Z"
      },
      {
        "duration": 204,
        "start_time": "2023-07-12T04:47:46.729Z"
      },
      {
        "duration": 16,
        "start_time": "2023-07-12T04:47:46.935Z"
      },
      {
        "duration": 3,
        "start_time": "2023-07-12T04:47:46.952Z"
      },
      {
        "duration": 18,
        "start_time": "2023-07-12T04:47:46.956Z"
      },
      {
        "duration": 5,
        "start_time": "2023-07-12T04:47:46.979Z"
      },
      {
        "duration": 11,
        "start_time": "2023-07-12T04:47:46.987Z"
      },
      {
        "duration": 14,
        "start_time": "2023-07-12T04:47:46.999Z"
      },
      {
        "duration": 3,
        "start_time": "2023-07-12T04:47:47.015Z"
      },
      {
        "duration": 19,
        "start_time": "2023-07-12T04:47:47.020Z"
      },
      {
        "duration": 6,
        "start_time": "2023-07-12T04:47:47.040Z"
      },
      {
        "duration": 7,
        "start_time": "2023-07-12T04:47:47.048Z"
      },
      {
        "duration": 7,
        "start_time": "2023-07-12T04:47:47.057Z"
      },
      {
        "duration": 11,
        "start_time": "2023-07-12T04:47:47.065Z"
      },
      {
        "duration": 909,
        "start_time": "2023-07-12T04:47:47.999Z"
      },
      {
        "duration": 7,
        "start_time": "2023-07-12T04:48:01.551Z"
      },
      {
        "duration": 5,
        "start_time": "2023-07-12T04:48:02.748Z"
      },
      {
        "duration": 952,
        "start_time": "2023-07-12T04:48:46.499Z"
      },
      {
        "duration": 12,
        "start_time": "2023-07-12T04:48:52.608Z"
      },
      {
        "duration": 1470,
        "start_time": "2023-07-12T04:49:29.637Z"
      },
      {
        "duration": 1619,
        "start_time": "2023-07-16T19:19:41.191Z"
      },
      {
        "duration": 5,
        "start_time": "2023-07-16T19:19:42.812Z"
      },
      {
        "duration": 203,
        "start_time": "2023-07-16T19:19:42.818Z"
      },
      {
        "duration": 20,
        "start_time": "2023-07-16T19:19:43.023Z"
      },
      {
        "duration": 3,
        "start_time": "2023-07-16T19:19:43.046Z"
      },
      {
        "duration": 43,
        "start_time": "2023-07-16T19:19:43.051Z"
      },
      {
        "duration": 9,
        "start_time": "2023-07-16T19:19:43.097Z"
      },
      {
        "duration": 9,
        "start_time": "2023-07-16T19:19:43.108Z"
      },
      {
        "duration": 15,
        "start_time": "2023-07-16T19:19:43.120Z"
      },
      {
        "duration": 6,
        "start_time": "2023-07-16T19:19:43.137Z"
      },
      {
        "duration": 35,
        "start_time": "2023-07-16T19:19:43.145Z"
      },
      {
        "duration": 18,
        "start_time": "2023-07-16T19:19:43.181Z"
      },
      {
        "duration": 8,
        "start_time": "2023-07-16T19:19:43.202Z"
      },
      {
        "duration": 4,
        "start_time": "2023-07-16T19:19:51.307Z"
      },
      {
        "duration": 142,
        "start_time": "2023-07-16T19:20:18.593Z"
      },
      {
        "duration": 27,
        "start_time": "2023-07-16T19:20:29.095Z"
      },
      {
        "duration": 654,
        "start_time": "2023-07-16T19:20:31.161Z"
      },
      {
        "duration": 14,
        "start_time": "2023-07-16T19:21:18.294Z"
      },
      {
        "duration": 624,
        "start_time": "2023-07-16T19:21:57.000Z"
      },
      {
        "duration": 193,
        "start_time": "2023-07-16T19:22:39.546Z"
      },
      {
        "duration": 7,
        "start_time": "2023-07-16T19:22:41.392Z"
      },
      {
        "duration": 8,
        "start_time": "2023-07-16T19:22:43.156Z"
      },
      {
        "duration": 51,
        "start_time": "2023-07-16T19:22:46.055Z"
      },
      {
        "duration": 7,
        "start_time": "2023-07-16T19:23:07.384Z"
      },
      {
        "duration": 85,
        "start_time": "2023-07-16T19:23:16.597Z"
      },
      {
        "duration": 15,
        "start_time": "2023-07-16T19:23:18.266Z"
      },
      {
        "duration": 14,
        "start_time": "2023-07-16T19:23:20.669Z"
      },
      {
        "duration": 6,
        "start_time": "2023-07-16T19:23:23.500Z"
      },
      {
        "duration": 83,
        "start_time": "2023-07-16T19:23:26.147Z"
      },
      {
        "duration": 7,
        "start_time": "2023-07-16T19:23:27.699Z"
      },
      {
        "duration": 17,
        "start_time": "2023-07-16T19:24:14.361Z"
      },
      {
        "duration": 119,
        "start_time": "2023-07-16T19:25:33.263Z"
      },
      {
        "duration": 80,
        "start_time": "2023-07-16T19:26:39.388Z"
      },
      {
        "duration": 7,
        "start_time": "2023-07-16T19:26:41.643Z"
      },
      {
        "duration": 5,
        "start_time": "2023-07-16T19:26:43.390Z"
      },
      {
        "duration": 5,
        "start_time": "2023-07-16T19:26:44.752Z"
      },
      {
        "duration": 105,
        "start_time": "2023-07-16T19:27:06.503Z"
      },
      {
        "duration": 10,
        "start_time": "2023-07-16T19:27:08.000Z"
      },
      {
        "duration": 7,
        "start_time": "2023-07-16T19:27:09.289Z"
      },
      {
        "duration": 806,
        "start_time": "2023-07-16T19:27:54.494Z"
      },
      {
        "duration": 1766,
        "start_time": "2023-07-16T19:28:05.994Z"
      },
      {
        "duration": 7,
        "start_time": "2023-07-16T19:28:07.763Z"
      },
      {
        "duration": 145,
        "start_time": "2023-07-16T19:28:07.772Z"
      },
      {
        "duration": 21,
        "start_time": "2023-07-16T19:28:07.919Z"
      },
      {
        "duration": 3,
        "start_time": "2023-07-16T19:28:07.943Z"
      },
      {
        "duration": 29,
        "start_time": "2023-07-16T19:28:07.949Z"
      },
      {
        "duration": 6,
        "start_time": "2023-07-16T19:28:07.980Z"
      },
      {
        "duration": 11,
        "start_time": "2023-07-16T19:28:07.988Z"
      },
      {
        "duration": 17,
        "start_time": "2023-07-16T19:28:08.001Z"
      },
      {
        "duration": 8,
        "start_time": "2023-07-16T19:28:08.020Z"
      },
      {
        "duration": 41,
        "start_time": "2023-07-16T19:28:08.030Z"
      },
      {
        "duration": 17,
        "start_time": "2023-07-16T19:28:08.073Z"
      },
      {
        "duration": 7,
        "start_time": "2023-07-16T19:28:08.092Z"
      },
      {
        "duration": 12,
        "start_time": "2023-07-16T19:28:08.102Z"
      },
      {
        "duration": 25,
        "start_time": "2023-07-16T19:28:08.116Z"
      },
      {
        "duration": 54,
        "start_time": "2023-07-16T19:28:09.959Z"
      },
      {
        "duration": 856,
        "start_time": "2023-07-16T19:28:11.317Z"
      },
      {
        "duration": 96,
        "start_time": "2023-07-16T19:28:43.316Z"
      },
      {
        "duration": 6,
        "start_time": "2023-07-16T19:28:44.831Z"
      },
      {
        "duration": 4,
        "start_time": "2023-07-16T19:28:46.942Z"
      },
      {
        "duration": 41,
        "start_time": "2023-07-16T19:28:51.663Z"
      },
      {
        "duration": 112,
        "start_time": "2023-07-16T19:28:55.167Z"
      },
      {
        "duration": 31,
        "start_time": "2023-07-16T19:28:56.270Z"
      },
      {
        "duration": 8,
        "start_time": "2023-07-16T19:28:57.545Z"
      },
      {
        "duration": 1419,
        "start_time": "2023-07-16T19:29:04.069Z"
      },
      {
        "duration": 3,
        "start_time": "2023-07-16T19:29:05.490Z"
      },
      {
        "duration": 158,
        "start_time": "2023-07-16T19:29:05.495Z"
      },
      {
        "duration": 21,
        "start_time": "2023-07-16T19:29:05.654Z"
      },
      {
        "duration": 14,
        "start_time": "2023-07-16T19:29:05.677Z"
      },
      {
        "duration": 21,
        "start_time": "2023-07-16T19:29:05.693Z"
      },
      {
        "duration": 6,
        "start_time": "2023-07-16T19:29:05.717Z"
      },
      {
        "duration": 13,
        "start_time": "2023-07-16T19:29:05.725Z"
      },
      {
        "duration": 59,
        "start_time": "2023-07-16T19:29:05.741Z"
      },
      {
        "duration": 24,
        "start_time": "2023-07-16T19:29:05.802Z"
      },
      {
        "duration": 27,
        "start_time": "2023-07-16T19:29:05.828Z"
      },
      {
        "duration": 25,
        "start_time": "2023-07-16T19:29:05.857Z"
      },
      {
        "duration": 22,
        "start_time": "2023-07-16T19:29:05.885Z"
      },
      {
        "duration": 8,
        "start_time": "2023-07-16T19:29:05.910Z"
      },
      {
        "duration": 26,
        "start_time": "2023-07-16T19:29:05.920Z"
      },
      {
        "duration": 74,
        "start_time": "2023-07-16T19:29:24.428Z"
      },
      {
        "duration": 6,
        "start_time": "2023-07-16T19:29:25.716Z"
      },
      {
        "duration": 5,
        "start_time": "2023-07-16T19:29:28.255Z"
      },
      {
        "duration": 1391,
        "start_time": "2023-07-16T19:29:59.787Z"
      },
      {
        "duration": 4,
        "start_time": "2023-07-16T19:30:01.180Z"
      },
      {
        "duration": 212,
        "start_time": "2023-07-16T19:30:01.187Z"
      },
      {
        "duration": 22,
        "start_time": "2023-07-16T19:30:01.401Z"
      },
      {
        "duration": 41,
        "start_time": "2023-07-16T19:30:01.426Z"
      },
      {
        "duration": 51,
        "start_time": "2023-07-16T19:30:01.469Z"
      },
      {
        "duration": 68,
        "start_time": "2023-07-16T19:30:01.522Z"
      },
      {
        "duration": 91,
        "start_time": "2023-07-16T19:30:01.592Z"
      },
      {
        "duration": 90,
        "start_time": "2023-07-16T19:30:01.685Z"
      },
      {
        "duration": 94,
        "start_time": "2023-07-16T19:30:01.777Z"
      },
      {
        "duration": 102,
        "start_time": "2023-07-16T19:30:01.873Z"
      },
      {
        "duration": 84,
        "start_time": "2023-07-16T19:30:01.977Z"
      },
      {
        "duration": 52,
        "start_time": "2023-07-16T19:30:02.063Z"
      },
      {
        "duration": 41,
        "start_time": "2023-07-16T19:30:02.118Z"
      },
      {
        "duration": 48,
        "start_time": "2023-07-16T19:30:02.161Z"
      },
      {
        "duration": 60,
        "start_time": "2023-07-16T19:30:03.179Z"
      },
      {
        "duration": 9,
        "start_time": "2023-07-16T19:30:04.868Z"
      },
      {
        "duration": 210,
        "start_time": "2023-07-16T19:30:12.400Z"
      },
      {
        "duration": 44,
        "start_time": "2023-07-16T19:30:18.785Z"
      },
      {
        "duration": 8,
        "start_time": "2023-07-16T19:30:22.717Z"
      },
      {
        "duration": 1370,
        "start_time": "2023-07-16T19:30:29.017Z"
      },
      {
        "duration": 4,
        "start_time": "2023-07-16T19:30:30.390Z"
      },
      {
        "duration": 206,
        "start_time": "2023-07-16T19:30:30.396Z"
      },
      {
        "duration": 22,
        "start_time": "2023-07-16T19:30:30.604Z"
      },
      {
        "duration": 27,
        "start_time": "2023-07-16T19:30:30.629Z"
      },
      {
        "duration": 52,
        "start_time": "2023-07-16T19:30:30.658Z"
      },
      {
        "duration": 23,
        "start_time": "2023-07-16T19:30:30.712Z"
      },
      {
        "duration": 63,
        "start_time": "2023-07-16T19:30:30.738Z"
      },
      {
        "duration": 53,
        "start_time": "2023-07-16T19:30:30.805Z"
      },
      {
        "duration": 59,
        "start_time": "2023-07-16T19:30:30.861Z"
      },
      {
        "duration": 59,
        "start_time": "2023-07-16T19:30:30.923Z"
      },
      {
        "duration": 72,
        "start_time": "2023-07-16T19:30:30.985Z"
      },
      {
        "duration": 52,
        "start_time": "2023-07-16T19:30:31.060Z"
      },
      {
        "duration": 47,
        "start_time": "2023-07-16T19:30:31.116Z"
      },
      {
        "duration": 35,
        "start_time": "2023-07-16T19:30:31.166Z"
      },
      {
        "duration": 58,
        "start_time": "2023-07-16T19:30:33.482Z"
      },
      {
        "duration": 8,
        "start_time": "2023-07-16T19:30:34.593Z"
      },
      {
        "duration": 6,
        "start_time": "2023-07-16T19:30:36.800Z"
      },
      {
        "duration": 1020,
        "start_time": "2023-07-16T19:32:09.066Z"
      },
      {
        "duration": 764,
        "start_time": "2023-07-16T19:32:34.134Z"
      },
      {
        "duration": 21,
        "start_time": "2023-07-16T19:33:05.936Z"
      },
      {
        "duration": 39,
        "start_time": "2023-07-16T19:33:41.822Z"
      },
      {
        "duration": 9,
        "start_time": "2023-07-16T19:33:43.323Z"
      },
      {
        "duration": 6,
        "start_time": "2023-07-16T19:33:45.488Z"
      },
      {
        "duration": 66,
        "start_time": "2023-07-16T19:34:12.668Z"
      },
      {
        "duration": 1625,
        "start_time": "2023-07-16T19:34:20.087Z"
      },
      {
        "duration": 1456,
        "start_time": "2023-07-16T19:35:51.056Z"
      },
      {
        "duration": 8,
        "start_time": "2023-07-16T19:35:52.514Z"
      },
      {
        "duration": 139,
        "start_time": "2023-07-16T19:35:52.525Z"
      },
      {
        "duration": 30,
        "start_time": "2023-07-16T19:35:52.667Z"
      },
      {
        "duration": 8,
        "start_time": "2023-07-16T19:35:52.700Z"
      },
      {
        "duration": 33,
        "start_time": "2023-07-16T19:35:52.711Z"
      },
      {
        "duration": 24,
        "start_time": "2023-07-16T19:35:52.746Z"
      },
      {
        "duration": 7,
        "start_time": "2023-07-16T19:35:52.772Z"
      },
      {
        "duration": 17,
        "start_time": "2023-07-16T19:35:52.781Z"
      },
      {
        "duration": 19,
        "start_time": "2023-07-16T19:35:52.801Z"
      },
      {
        "duration": 10,
        "start_time": "2023-07-16T19:35:52.822Z"
      },
      {
        "duration": 10,
        "start_time": "2023-07-16T19:35:52.868Z"
      },
      {
        "duration": 13,
        "start_time": "2023-07-16T19:35:52.881Z"
      },
      {
        "duration": 13,
        "start_time": "2023-07-16T19:35:52.898Z"
      },
      {
        "duration": 13,
        "start_time": "2023-07-16T19:35:52.913Z"
      },
      {
        "duration": 142,
        "start_time": "2023-07-16T19:35:54.302Z"
      },
      {
        "duration": 138,
        "start_time": "2023-07-16T19:35:57.897Z"
      },
      {
        "duration": 8,
        "start_time": "2023-07-16T19:36:08.880Z"
      },
      {
        "duration": 10,
        "start_time": "2023-07-16T19:36:16.811Z"
      },
      {
        "duration": 13,
        "start_time": "2023-07-16T19:36:25.749Z"
      },
      {
        "duration": 8,
        "start_time": "2023-07-16T19:36:27.126Z"
      },
      {
        "duration": 1466,
        "start_time": "2023-07-16T19:37:08.736Z"
      },
      {
        "duration": 3,
        "start_time": "2023-07-16T19:37:10.205Z"
      },
      {
        "duration": 181,
        "start_time": "2023-07-16T19:37:10.210Z"
      },
      {
        "duration": 29,
        "start_time": "2023-07-16T19:37:10.393Z"
      },
      {
        "duration": 4,
        "start_time": "2023-07-16T19:37:10.425Z"
      },
      {
        "duration": 37,
        "start_time": "2023-07-16T19:37:10.431Z"
      },
      {
        "duration": 7,
        "start_time": "2023-07-16T19:37:10.470Z"
      },
      {
        "duration": 14,
        "start_time": "2023-07-16T19:37:10.479Z"
      },
      {
        "duration": 18,
        "start_time": "2023-07-16T19:37:10.495Z"
      },
      {
        "duration": 6,
        "start_time": "2023-07-16T19:37:10.516Z"
      },
      {
        "duration": 13,
        "start_time": "2023-07-16T19:37:10.524Z"
      },
      {
        "duration": 45,
        "start_time": "2023-07-16T19:37:10.539Z"
      },
      {
        "duration": 8,
        "start_time": "2023-07-16T19:37:10.586Z"
      },
      {
        "duration": 14,
        "start_time": "2023-07-16T19:37:10.596Z"
      },
      {
        "duration": 30,
        "start_time": "2023-07-16T19:37:10.612Z"
      },
      {
        "duration": 140,
        "start_time": "2023-07-16T19:37:18.968Z"
      },
      {
        "duration": 37,
        "start_time": "2023-07-16T19:38:14.270Z"
      },
      {
        "duration": 33,
        "start_time": "2023-07-16T19:38:31.340Z"
      },
      {
        "duration": 15,
        "start_time": "2023-07-16T19:38:39.840Z"
      },
      {
        "duration": 9,
        "start_time": "2023-07-16T19:38:43.236Z"
      },
      {
        "duration": 1430,
        "start_time": "2023-07-16T19:39:15.918Z"
      },
      {
        "duration": 4,
        "start_time": "2023-07-16T19:39:17.351Z"
      },
      {
        "duration": 178,
        "start_time": "2023-07-16T19:39:17.369Z"
      },
      {
        "duration": 29,
        "start_time": "2023-07-16T19:39:17.553Z"
      },
      {
        "duration": 4,
        "start_time": "2023-07-16T19:39:17.585Z"
      },
      {
        "duration": 23,
        "start_time": "2023-07-16T19:39:17.593Z"
      },
      {
        "duration": 7,
        "start_time": "2023-07-16T19:39:17.619Z"
      },
      {
        "duration": 41,
        "start_time": "2023-07-16T19:39:17.628Z"
      },
      {
        "duration": 20,
        "start_time": "2023-07-16T19:39:17.671Z"
      },
      {
        "duration": 6,
        "start_time": "2023-07-16T19:39:17.693Z"
      },
      {
        "duration": 15,
        "start_time": "2023-07-16T19:39:17.702Z"
      },
      {
        "duration": 7,
        "start_time": "2023-07-16T19:39:54.286Z"
      },
      {
        "duration": 6,
        "start_time": "2023-07-16T19:39:57.579Z"
      },
      {
        "duration": 11,
        "start_time": "2023-07-16T19:39:59.891Z"
      },
      {
        "duration": 11,
        "start_time": "2023-07-16T19:40:01.523Z"
      },
      {
        "duration": 1536,
        "start_time": "2023-07-16T19:40:14.497Z"
      },
      {
        "duration": 5,
        "start_time": "2023-07-16T19:40:16.038Z"
      },
      {
        "duration": 246,
        "start_time": "2023-07-16T19:40:16.045Z"
      },
      {
        "duration": 28,
        "start_time": "2023-07-16T19:40:16.295Z"
      },
      {
        "duration": 5,
        "start_time": "2023-07-16T19:40:16.326Z"
      },
      {
        "duration": 43,
        "start_time": "2023-07-16T19:40:16.333Z"
      },
      {
        "duration": 8,
        "start_time": "2023-07-16T19:40:16.378Z"
      },
      {
        "duration": 24,
        "start_time": "2023-07-16T19:40:16.389Z"
      },
      {
        "duration": 33,
        "start_time": "2023-07-16T19:40:16.416Z"
      },
      {
        "duration": 8,
        "start_time": "2023-07-16T19:40:16.452Z"
      },
      {
        "duration": 51,
        "start_time": "2023-07-16T19:40:16.467Z"
      },
      {
        "duration": 25,
        "start_time": "2023-07-16T19:40:16.521Z"
      },
      {
        "duration": 21,
        "start_time": "2023-07-16T19:40:16.549Z"
      },
      {
        "duration": 22,
        "start_time": "2023-07-16T19:40:16.573Z"
      },
      {
        "duration": 23,
        "start_time": "2023-07-16T19:40:16.599Z"
      },
      {
        "duration": 5,
        "start_time": "2023-07-16T19:40:25.528Z"
      },
      {
        "duration": 8,
        "start_time": "2023-07-16T19:40:31.901Z"
      },
      {
        "duration": 6,
        "start_time": "2023-07-16T19:40:39.041Z"
      },
      {
        "duration": 8,
        "start_time": "2023-07-16T19:40:42.797Z"
      },
      {
        "duration": 10,
        "start_time": "2023-07-16T19:40:44.191Z"
      },
      {
        "duration": 55,
        "start_time": "2023-07-16T19:41:38.054Z"
      },
      {
        "duration": 1389,
        "start_time": "2023-07-16T19:42:48.365Z"
      },
      {
        "duration": 5,
        "start_time": "2023-07-16T19:42:49.757Z"
      },
      {
        "duration": 146,
        "start_time": "2023-07-16T19:42:49.767Z"
      },
      {
        "duration": 42,
        "start_time": "2023-07-16T19:42:49.916Z"
      },
      {
        "duration": 5,
        "start_time": "2023-07-16T19:42:49.967Z"
      },
      {
        "duration": 22,
        "start_time": "2023-07-16T19:42:49.974Z"
      },
      {
        "duration": 8,
        "start_time": "2023-07-16T19:42:49.998Z"
      },
      {
        "duration": 54,
        "start_time": "2023-07-16T19:42:50.008Z"
      },
      {
        "duration": 60,
        "start_time": "2023-07-16T19:42:50.064Z"
      },
      {
        "duration": 27,
        "start_time": "2023-07-16T19:42:50.128Z"
      },
      {
        "duration": 64,
        "start_time": "2023-07-16T19:42:50.157Z"
      },
      {
        "duration": 37,
        "start_time": "2023-07-16T19:42:50.224Z"
      },
      {
        "duration": 16,
        "start_time": "2023-07-16T19:42:50.263Z"
      },
      {
        "duration": 28,
        "start_time": "2023-07-16T19:42:50.282Z"
      },
      {
        "duration": 41,
        "start_time": "2023-07-16T19:42:50.312Z"
      },
      {
        "duration": 119,
        "start_time": "2023-07-16T19:42:52.483Z"
      },
      {
        "duration": 8,
        "start_time": "2023-07-16T19:43:12.402Z"
      },
      {
        "duration": 7,
        "start_time": "2023-07-16T19:43:14.323Z"
      },
      {
        "duration": 18,
        "start_time": "2023-07-16T19:44:09.913Z"
      },
      {
        "duration": 15,
        "start_time": "2023-07-16T19:44:11.066Z"
      },
      {
        "duration": 8,
        "start_time": "2023-07-16T19:44:13.001Z"
      },
      {
        "duration": 23,
        "start_time": "2023-07-16T19:44:31.533Z"
      },
      {
        "duration": 14,
        "start_time": "2023-07-16T19:44:58.167Z"
      },
      {
        "duration": 26,
        "start_time": "2023-07-16T19:46:21.460Z"
      },
      {
        "duration": 8,
        "start_time": "2023-07-16T19:46:23.827Z"
      },
      {
        "duration": 8,
        "start_time": "2023-07-16T19:46:45.105Z"
      },
      {
        "duration": 25,
        "start_time": "2023-07-16T19:47:14.881Z"
      },
      {
        "duration": 1577,
        "start_time": "2023-07-16T19:47:23.701Z"
      },
      {
        "duration": 4,
        "start_time": "2023-07-16T19:47:25.282Z"
      },
      {
        "duration": 178,
        "start_time": "2023-07-16T19:47:25.289Z"
      },
      {
        "duration": 30,
        "start_time": "2023-07-16T19:47:25.469Z"
      },
      {
        "duration": 6,
        "start_time": "2023-07-16T19:47:25.503Z"
      },
      {
        "duration": 31,
        "start_time": "2023-07-16T19:47:25.511Z"
      },
      {
        "duration": 27,
        "start_time": "2023-07-16T19:47:25.544Z"
      },
      {
        "duration": 13,
        "start_time": "2023-07-16T19:47:25.573Z"
      },
      {
        "duration": 32,
        "start_time": "2023-07-16T19:47:25.588Z"
      },
      {
        "duration": 21,
        "start_time": "2023-07-16T19:47:25.623Z"
      },
      {
        "duration": 31,
        "start_time": "2023-07-16T19:47:25.646Z"
      },
      {
        "duration": 9,
        "start_time": "2023-07-16T19:47:25.681Z"
      },
      {
        "duration": 11,
        "start_time": "2023-07-16T19:47:25.692Z"
      },
      {
        "duration": 13,
        "start_time": "2023-07-16T19:47:25.708Z"
      },
      {
        "duration": 14,
        "start_time": "2023-07-16T19:47:25.724Z"
      },
      {
        "duration": 8,
        "start_time": "2023-07-16T19:47:25.766Z"
      },
      {
        "duration": 7,
        "start_time": "2023-07-16T19:47:25.777Z"
      },
      {
        "duration": 93,
        "start_time": "2023-07-16T19:47:25.787Z"
      },
      {
        "duration": 32,
        "start_time": "2023-07-16T19:47:25.884Z"
      },
      {
        "duration": 54,
        "start_time": "2023-07-16T19:47:25.919Z"
      },
      {
        "duration": 8,
        "start_time": "2023-07-16T19:47:25.977Z"
      },
      {
        "duration": 17,
        "start_time": "2023-07-16T19:47:25.988Z"
      },
      {
        "duration": 12,
        "start_time": "2023-07-16T19:47:26.007Z"
      },
      {
        "duration": 48,
        "start_time": "2023-07-16T19:47:26.021Z"
      },
      {
        "duration": 9,
        "start_time": "2023-07-16T19:47:26.071Z"
      },
      {
        "duration": 23,
        "start_time": "2023-07-16T19:55:27.537Z"
      },
      {
        "duration": 45,
        "start_time": "2023-07-16T19:55:32.645Z"
      },
      {
        "duration": 19,
        "start_time": "2023-07-16T19:55:50.549Z"
      },
      {
        "duration": 31,
        "start_time": "2023-07-16T19:55:53.853Z"
      },
      {
        "duration": 545,
        "start_time": "2023-07-16T20:08:55.115Z"
      },
      {
        "duration": 6,
        "start_time": "2023-07-16T20:10:10.293Z"
      },
      {
        "duration": 552,
        "start_time": "2023-07-16T20:10:18.154Z"
      },
      {
        "duration": 703,
        "start_time": "2023-07-16T20:10:23.915Z"
      },
      {
        "duration": 21,
        "start_time": "2023-07-16T20:10:38.565Z"
      },
      {
        "duration": 659,
        "start_time": "2023-07-16T20:10:41.446Z"
      },
      {
        "duration": 1421,
        "start_time": "2023-07-16T20:10:47.732Z"
      },
      {
        "duration": 18,
        "start_time": "2023-07-16T20:10:49.156Z"
      },
      {
        "duration": 127,
        "start_time": "2023-07-16T20:10:49.179Z"
      },
      {
        "duration": 19,
        "start_time": "2023-07-16T20:10:49.308Z"
      },
      {
        "duration": 16,
        "start_time": "2023-07-16T20:10:49.330Z"
      },
      {
        "duration": 7,
        "start_time": "2023-07-16T20:10:49.377Z"
      },
      {
        "duration": 15,
        "start_time": "2023-07-16T20:10:49.387Z"
      },
      {
        "duration": 10,
        "start_time": "2023-07-16T20:10:49.404Z"
      },
      {
        "duration": 15,
        "start_time": "2023-07-16T20:10:49.416Z"
      },
      {
        "duration": 6,
        "start_time": "2023-07-16T20:10:49.433Z"
      },
      {
        "duration": 29,
        "start_time": "2023-07-16T20:10:49.441Z"
      },
      {
        "duration": 8,
        "start_time": "2023-07-16T20:10:49.473Z"
      },
      {
        "duration": 10,
        "start_time": "2023-07-16T20:10:49.483Z"
      },
      {
        "duration": 14,
        "start_time": "2023-07-16T20:10:49.497Z"
      },
      {
        "duration": 6,
        "start_time": "2023-07-16T20:10:49.513Z"
      },
      {
        "duration": 11,
        "start_time": "2023-07-16T20:10:49.522Z"
      },
      {
        "duration": 39,
        "start_time": "2023-07-16T20:10:49.534Z"
      },
      {
        "duration": 45,
        "start_time": "2023-07-16T20:10:49.575Z"
      },
      {
        "duration": 21,
        "start_time": "2023-07-16T20:10:49.621Z"
      },
      {
        "duration": 31,
        "start_time": "2023-07-16T20:10:49.644Z"
      },
      {
        "duration": 14,
        "start_time": "2023-07-16T20:10:49.677Z"
      },
      {
        "duration": 12,
        "start_time": "2023-07-16T20:10:49.693Z"
      },
      {
        "duration": 14,
        "start_time": "2023-07-16T20:10:49.707Z"
      },
      {
        "duration": 6,
        "start_time": "2023-07-16T20:10:49.724Z"
      },
      {
        "duration": 575,
        "start_time": "2023-07-16T20:10:49.732Z"
      },
      {
        "duration": 556,
        "start_time": "2023-07-16T20:11:48.526Z"
      },
      {
        "duration": 532,
        "start_time": "2023-07-16T20:11:59.137Z"
      },
      {
        "duration": 7,
        "start_time": "2023-07-16T20:12:10.552Z"
      },
      {
        "duration": 632,
        "start_time": "2023-07-16T20:12:17.010Z"
      },
      {
        "duration": 791,
        "start_time": "2023-07-16T20:12:24.022Z"
      },
      {
        "duration": 657,
        "start_time": "2023-07-16T20:12:30.548Z"
      },
      {
        "duration": 709,
        "start_time": "2023-07-16T20:12:36.032Z"
      },
      {
        "duration": 607,
        "start_time": "2023-07-16T20:13:18.358Z"
      },
      {
        "duration": 3140,
        "start_time": "2023-07-16T20:14:17.930Z"
      },
      {
        "duration": 3334,
        "start_time": "2023-07-16T20:14:26.018Z"
      },
      {
        "duration": 3299,
        "start_time": "2023-07-16T20:14:57.869Z"
      },
      {
        "duration": 3106,
        "start_time": "2023-07-16T20:16:38.637Z"
      },
      {
        "duration": 2978,
        "start_time": "2023-07-16T20:17:01.620Z"
      },
      {
        "duration": 1587,
        "start_time": "2023-07-16T20:17:19.133Z"
      },
      {
        "duration": 7,
        "start_time": "2023-07-16T20:17:20.723Z"
      },
      {
        "duration": 185,
        "start_time": "2023-07-16T20:17:20.732Z"
      },
      {
        "duration": 18,
        "start_time": "2023-07-16T20:17:20.920Z"
      },
      {
        "duration": 19,
        "start_time": "2023-07-16T20:17:20.941Z"
      },
      {
        "duration": 24,
        "start_time": "2023-07-16T20:17:20.962Z"
      },
      {
        "duration": 13,
        "start_time": "2023-07-16T20:17:20.989Z"
      },
      {
        "duration": 44,
        "start_time": "2023-07-16T20:17:21.005Z"
      },
      {
        "duration": 31,
        "start_time": "2023-07-16T20:17:21.052Z"
      },
      {
        "duration": 45,
        "start_time": "2023-07-16T20:17:21.086Z"
      },
      {
        "duration": 15,
        "start_time": "2023-07-16T20:17:21.134Z"
      },
      {
        "duration": 17,
        "start_time": "2023-07-16T20:17:21.151Z"
      },
      {
        "duration": 26,
        "start_time": "2023-07-16T20:17:21.170Z"
      },
      {
        "duration": 22,
        "start_time": "2023-07-16T20:17:21.199Z"
      },
      {
        "duration": 16,
        "start_time": "2023-07-16T20:17:21.224Z"
      },
      {
        "duration": 12,
        "start_time": "2023-07-16T20:17:21.241Z"
      },
      {
        "duration": 17,
        "start_time": "2023-07-16T20:17:21.255Z"
      },
      {
        "duration": 54,
        "start_time": "2023-07-16T20:17:21.274Z"
      },
      {
        "duration": 17,
        "start_time": "2023-07-16T20:17:21.330Z"
      },
      {
        "duration": 25,
        "start_time": "2023-07-16T20:17:21.349Z"
      },
      {
        "duration": 14,
        "start_time": "2023-07-16T20:17:21.377Z"
      },
      {
        "duration": 9,
        "start_time": "2023-07-16T20:17:21.393Z"
      },
      {
        "duration": 21,
        "start_time": "2023-07-16T20:17:21.404Z"
      },
      {
        "duration": 9,
        "start_time": "2023-07-16T20:17:21.428Z"
      },
      {
        "duration": 3472,
        "start_time": "2023-07-16T20:17:21.466Z"
      },
      {
        "duration": 1556,
        "start_time": "2023-07-16T20:17:35.595Z"
      },
      {
        "duration": 13,
        "start_time": "2023-07-16T20:17:37.154Z"
      },
      {
        "duration": 232,
        "start_time": "2023-07-16T20:17:37.169Z"
      },
      {
        "duration": 24,
        "start_time": "2023-07-16T20:17:37.404Z"
      },
      {
        "duration": 38,
        "start_time": "2023-07-16T20:17:37.430Z"
      },
      {
        "duration": 4,
        "start_time": "2023-07-16T20:17:37.470Z"
      },
      {
        "duration": 17,
        "start_time": "2023-07-16T20:17:37.476Z"
      },
      {
        "duration": 29,
        "start_time": "2023-07-16T20:17:37.496Z"
      },
      {
        "duration": 20,
        "start_time": "2023-07-16T20:17:37.528Z"
      },
      {
        "duration": 16,
        "start_time": "2023-07-16T20:17:37.552Z"
      },
      {
        "duration": 11,
        "start_time": "2023-07-16T20:17:37.570Z"
      },
      {
        "duration": 24,
        "start_time": "2023-07-16T20:17:37.583Z"
      },
      {
        "duration": 15,
        "start_time": "2023-07-16T20:17:37.609Z"
      },
      {
        "duration": 14,
        "start_time": "2023-07-16T20:17:37.625Z"
      },
      {
        "duration": 12,
        "start_time": "2023-07-16T20:17:37.642Z"
      },
      {
        "duration": 6,
        "start_time": "2023-07-16T20:17:37.669Z"
      },
      {
        "duration": 12,
        "start_time": "2023-07-16T20:17:37.677Z"
      },
      {
        "duration": 62,
        "start_time": "2023-07-16T20:17:37.691Z"
      },
      {
        "duration": 25,
        "start_time": "2023-07-16T20:17:37.756Z"
      },
      {
        "duration": 22,
        "start_time": "2023-07-16T20:17:37.783Z"
      },
      {
        "duration": 23,
        "start_time": "2023-07-16T20:17:37.807Z"
      },
      {
        "duration": 23,
        "start_time": "2023-07-16T20:17:37.832Z"
      },
      {
        "duration": 23,
        "start_time": "2023-07-16T20:17:37.857Z"
      },
      {
        "duration": 9,
        "start_time": "2023-07-16T20:17:37.883Z"
      },
      {
        "duration": 3395,
        "start_time": "2023-07-16T20:17:37.894Z"
      },
      {
        "duration": 531,
        "start_time": "2023-07-16T20:18:01.576Z"
      },
      {
        "duration": 1129,
        "start_time": "2023-07-16T20:18:08.792Z"
      },
      {
        "duration": 13,
        "start_time": "2023-07-16T20:18:57.149Z"
      },
      {
        "duration": 12,
        "start_time": "2023-07-16T20:23:27.278Z"
      },
      {
        "duration": 11,
        "start_time": "2023-07-16T20:24:16.699Z"
      },
      {
        "duration": 14,
        "start_time": "2023-07-16T20:24:42.253Z"
      },
      {
        "duration": 8,
        "start_time": "2023-07-16T20:25:41.755Z"
      },
      {
        "duration": 6,
        "start_time": "2023-07-16T20:25:49.987Z"
      },
      {
        "duration": 74,
        "start_time": "2023-07-16T20:26:22.733Z"
      },
      {
        "duration": 6,
        "start_time": "2023-07-16T20:26:43.815Z"
      },
      {
        "duration": 20,
        "start_time": "2023-07-16T20:26:46.663Z"
      },
      {
        "duration": 6,
        "start_time": "2023-07-16T20:26:53.415Z"
      },
      {
        "duration": 6,
        "start_time": "2023-07-16T20:27:02.789Z"
      },
      {
        "duration": 390,
        "start_time": "2023-07-16T20:29:17.994Z"
      },
      {
        "duration": 413,
        "start_time": "2023-07-16T20:29:28.333Z"
      },
      {
        "duration": 1705,
        "start_time": "2023-07-16T20:29:55.426Z"
      },
      {
        "duration": 1941,
        "start_time": "2023-07-16T20:30:03.698Z"
      },
      {
        "duration": 415,
        "start_time": "2023-07-16T20:30:22.569Z"
      },
      {
        "duration": 1326,
        "start_time": "2023-07-16T20:30:28.492Z"
      },
      {
        "duration": 487,
        "start_time": "2023-07-16T20:30:38.966Z"
      },
      {
        "duration": 80,
        "start_time": "2023-07-16T20:30:51.164Z"
      },
      {
        "duration": 77,
        "start_time": "2023-07-16T20:30:54.469Z"
      },
      {
        "duration": 87,
        "start_time": "2023-07-16T20:31:00.728Z"
      },
      {
        "duration": 426,
        "start_time": "2023-07-16T20:31:04.214Z"
      },
      {
        "duration": 344,
        "start_time": "2023-07-16T20:31:43.336Z"
      },
      {
        "duration": 341,
        "start_time": "2023-07-16T20:31:56.490Z"
      },
      {
        "duration": 622,
        "start_time": "2023-07-16T20:32:10.001Z"
      },
      {
        "duration": 80,
        "start_time": "2023-07-16T20:32:22.910Z"
      },
      {
        "duration": 337,
        "start_time": "2023-07-16T20:32:26.109Z"
      },
      {
        "duration": 361,
        "start_time": "2023-07-16T20:32:34.718Z"
      },
      {
        "duration": 338,
        "start_time": "2023-07-16T20:32:51.489Z"
      },
      {
        "duration": 375,
        "start_time": "2023-07-16T20:33:01.415Z"
      },
      {
        "duration": 62,
        "start_time": "2023-07-16T20:33:15.590Z"
      },
      {
        "duration": 371,
        "start_time": "2023-07-16T20:33:19.418Z"
      },
      {
        "duration": 379,
        "start_time": "2023-07-16T20:33:28.015Z"
      },
      {
        "duration": 800,
        "start_time": "2023-07-16T20:34:24.205Z"
      },
      {
        "duration": 582,
        "start_time": "2023-07-16T20:34:51.322Z"
      },
      {
        "duration": 420,
        "start_time": "2023-07-16T20:38:41.202Z"
      },
      {
        "duration": 27,
        "start_time": "2023-07-16T20:42:12.152Z"
      },
      {
        "duration": 139,
        "start_time": "2023-07-16T20:43:30.072Z"
      },
      {
        "duration": 362,
        "start_time": "2023-07-16T20:44:20.006Z"
      },
      {
        "duration": 566,
        "start_time": "2023-07-16T20:45:01.947Z"
      },
      {
        "duration": 150,
        "start_time": "2023-07-16T20:45:18.249Z"
      },
      {
        "duration": 72,
        "start_time": "2023-07-16T20:46:38.105Z"
      },
      {
        "duration": 387,
        "start_time": "2023-07-16T20:48:24.125Z"
      },
      {
        "duration": 2468,
        "start_time": "2023-07-16T20:52:32.610Z"
      },
      {
        "duration": 55,
        "start_time": "2023-07-17T19:32:48.814Z"
      },
      {
        "duration": 1617,
        "start_time": "2023-07-17T19:32:54.751Z"
      },
      {
        "duration": 8,
        "start_time": "2023-07-17T19:32:56.370Z"
      },
      {
        "duration": 285,
        "start_time": "2023-07-17T19:32:56.379Z"
      },
      {
        "duration": 22,
        "start_time": "2023-07-17T19:32:56.667Z"
      },
      {
        "duration": 32,
        "start_time": "2023-07-17T19:32:56.691Z"
      },
      {
        "duration": 23,
        "start_time": "2023-07-17T19:32:56.725Z"
      },
      {
        "duration": 14,
        "start_time": "2023-07-17T19:32:56.750Z"
      },
      {
        "duration": 11,
        "start_time": "2023-07-17T19:32:56.766Z"
      },
      {
        "duration": 24,
        "start_time": "2023-07-17T19:32:56.779Z"
      },
      {
        "duration": 23,
        "start_time": "2023-07-17T19:32:56.805Z"
      },
      {
        "duration": 24,
        "start_time": "2023-07-17T19:32:56.829Z"
      },
      {
        "duration": 23,
        "start_time": "2023-07-17T19:32:56.855Z"
      },
      {
        "duration": 26,
        "start_time": "2023-07-17T19:32:56.880Z"
      },
      {
        "duration": 18,
        "start_time": "2023-07-17T19:32:56.915Z"
      },
      {
        "duration": 44,
        "start_time": "2023-07-17T19:32:56.935Z"
      },
      {
        "duration": 28,
        "start_time": "2023-07-17T19:32:56.981Z"
      },
      {
        "duration": 21,
        "start_time": "2023-07-17T19:32:57.013Z"
      },
      {
        "duration": 42,
        "start_time": "2023-07-17T19:32:57.037Z"
      },
      {
        "duration": 14,
        "start_time": "2023-07-17T19:32:57.082Z"
      },
      {
        "duration": 22,
        "start_time": "2023-07-17T19:32:57.098Z"
      },
      {
        "duration": 11,
        "start_time": "2023-07-17T19:32:57.124Z"
      },
      {
        "duration": 9,
        "start_time": "2023-07-17T19:32:57.137Z"
      },
      {
        "duration": 17,
        "start_time": "2023-07-17T19:32:57.148Z"
      },
      {
        "duration": 6,
        "start_time": "2023-07-17T19:32:57.167Z"
      },
      {
        "duration": 568,
        "start_time": "2023-07-17T19:32:57.175Z"
      },
      {
        "duration": 10,
        "start_time": "2023-07-17T19:32:57.746Z"
      },
      {
        "duration": 37,
        "start_time": "2023-07-17T19:32:57.757Z"
      },
      {
        "duration": 354,
        "start_time": "2023-07-17T19:32:57.797Z"
      },
      {
        "duration": 423,
        "start_time": "2023-07-17T19:32:58.153Z"
      },
      {
        "duration": 358,
        "start_time": "2023-07-17T19:32:58.578Z"
      },
      {
        "duration": 100,
        "start_time": "2023-07-17T19:32:58.938Z"
      },
      {
        "duration": 246,
        "start_time": "2023-07-17T19:32:59.040Z"
      },
      {
        "duration": 1995,
        "start_time": "2023-07-17T19:32:59.288Z"
      },
      {
        "duration": 138,
        "start_time": "2023-07-17T19:33:01.285Z"
      },
      {
        "duration": 4,
        "start_time": "2023-07-17T19:33:13.259Z"
      },
      {
        "duration": 24,
        "start_time": "2023-07-17T19:33:15.948Z"
      },
      {
        "duration": 21,
        "start_time": "2023-07-17T19:34:34.352Z"
      },
      {
        "duration": 139,
        "start_time": "2023-07-17T19:34:56.364Z"
      },
      {
        "duration": 174,
        "start_time": "2023-07-17T19:35:18.356Z"
      },
      {
        "duration": 36,
        "start_time": "2023-07-17T19:35:32.894Z"
      },
      {
        "duration": 8,
        "start_time": "2023-07-17T19:35:41.890Z"
      },
      {
        "duration": 32,
        "start_time": "2023-07-17T19:35:44.806Z"
      },
      {
        "duration": 24,
        "start_time": "2023-07-17T19:35:53.353Z"
      },
      {
        "duration": 28,
        "start_time": "2023-07-17T19:37:44.636Z"
      },
      {
        "duration": 23,
        "start_time": "2023-07-17T19:37:52.119Z"
      },
      {
        "duration": 496,
        "start_time": "2023-07-17T19:49:30.623Z"
      },
      {
        "duration": 1342,
        "start_time": "2023-07-17T19:52:12.193Z"
      },
      {
        "duration": 8,
        "start_time": "2023-07-17T19:52:13.537Z"
      },
      {
        "duration": 211,
        "start_time": "2023-07-17T19:52:13.546Z"
      },
      {
        "duration": 16,
        "start_time": "2023-07-17T19:52:13.759Z"
      },
      {
        "duration": 30,
        "start_time": "2023-07-17T19:52:13.777Z"
      },
      {
        "duration": 17,
        "start_time": "2023-07-17T19:52:13.812Z"
      },
      {
        "duration": 9,
        "start_time": "2023-07-17T19:52:13.831Z"
      },
      {
        "duration": 9,
        "start_time": "2023-07-17T19:52:13.842Z"
      },
      {
        "duration": 22,
        "start_time": "2023-07-17T19:52:13.854Z"
      },
      {
        "duration": 6,
        "start_time": "2023-07-17T19:52:13.879Z"
      },
      {
        "duration": 16,
        "start_time": "2023-07-17T19:52:13.887Z"
      },
      {
        "duration": 38,
        "start_time": "2023-07-17T19:52:13.905Z"
      },
      {
        "duration": 8,
        "start_time": "2023-07-17T19:52:13.944Z"
      },
      {
        "duration": 13,
        "start_time": "2023-07-17T19:52:13.955Z"
      },
      {
        "duration": 27,
        "start_time": "2023-07-17T19:52:13.971Z"
      },
      {
        "duration": 9,
        "start_time": "2023-07-17T19:52:13.999Z"
      },
      {
        "duration": 44,
        "start_time": "2023-07-17T19:52:14.018Z"
      },
      {
        "duration": 11,
        "start_time": "2023-07-17T19:52:14.063Z"
      },
      {
        "duration": 10,
        "start_time": "2023-07-17T19:52:14.076Z"
      },
      {
        "duration": 14,
        "start_time": "2023-07-17T19:52:14.088Z"
      },
      {
        "duration": 22,
        "start_time": "2023-07-17T19:52:14.104Z"
      },
      {
        "duration": 19,
        "start_time": "2023-07-17T19:52:14.128Z"
      },
      {
        "duration": 6,
        "start_time": "2023-07-17T19:52:14.149Z"
      },
      {
        "duration": 581,
        "start_time": "2023-07-17T19:52:14.157Z"
      },
      {
        "duration": 9,
        "start_time": "2023-07-17T19:52:14.740Z"
      },
      {
        "duration": 10,
        "start_time": "2023-07-17T19:52:14.750Z"
      },
      {
        "duration": 376,
        "start_time": "2023-07-17T19:52:14.762Z"
      },
      {
        "duration": 523,
        "start_time": "2023-07-17T19:52:15.139Z"
      },
      {
        "duration": 366,
        "start_time": "2023-07-17T19:52:15.664Z"
      },
      {
        "duration": 98,
        "start_time": "2023-07-17T19:52:16.032Z"
      },
      {
        "duration": 321,
        "start_time": "2023-07-17T19:52:16.133Z"
      },
      {
        "duration": 1901,
        "start_time": "2023-07-17T19:52:16.456Z"
      },
      {
        "duration": 25,
        "start_time": "2023-07-17T19:52:18.359Z"
      },
      {
        "duration": 1310,
        "start_time": "2023-07-17T19:57:41.080Z"
      },
      {
        "duration": 9,
        "start_time": "2023-07-17T19:57:42.392Z"
      },
      {
        "duration": 235,
        "start_time": "2023-07-17T19:57:42.408Z"
      },
      {
        "duration": 18,
        "start_time": "2023-07-17T19:57:42.645Z"
      },
      {
        "duration": 15,
        "start_time": "2023-07-17T19:57:42.666Z"
      },
      {
        "duration": 55,
        "start_time": "2023-07-17T19:57:42.683Z"
      },
      {
        "duration": 13,
        "start_time": "2023-07-17T19:57:42.740Z"
      },
      {
        "duration": 16,
        "start_time": "2023-07-17T19:57:42.755Z"
      },
      {
        "duration": 17,
        "start_time": "2023-07-17T19:57:42.773Z"
      },
      {
        "duration": 7,
        "start_time": "2023-07-17T19:57:42.792Z"
      },
      {
        "duration": 16,
        "start_time": "2023-07-17T19:57:42.801Z"
      },
      {
        "duration": 28,
        "start_time": "2023-07-17T19:57:42.823Z"
      },
      {
        "duration": 10,
        "start_time": "2023-07-17T19:57:42.852Z"
      },
      {
        "duration": 17,
        "start_time": "2023-07-17T19:57:42.865Z"
      },
      {
        "duration": 54,
        "start_time": "2023-07-17T19:57:42.884Z"
      },
      {
        "duration": 27,
        "start_time": "2023-07-17T19:57:42.940Z"
      },
      {
        "duration": 49,
        "start_time": "2023-07-17T19:57:42.969Z"
      },
      {
        "duration": 17,
        "start_time": "2023-07-17T19:57:43.019Z"
      },
      {
        "duration": 28,
        "start_time": "2023-07-17T19:57:43.041Z"
      },
      {
        "duration": 21,
        "start_time": "2023-07-17T19:57:43.071Z"
      },
      {
        "duration": 50,
        "start_time": "2023-07-17T19:57:43.093Z"
      },
      {
        "duration": 26,
        "start_time": "2023-07-17T19:57:43.145Z"
      },
      {
        "duration": 28,
        "start_time": "2023-07-17T19:57:43.172Z"
      },
      {
        "duration": 586,
        "start_time": "2023-07-17T19:57:43.202Z"
      },
      {
        "duration": 26,
        "start_time": "2023-07-17T19:57:43.790Z"
      },
      {
        "duration": 22,
        "start_time": "2023-07-17T19:57:43.817Z"
      },
      {
        "duration": 349,
        "start_time": "2023-07-17T19:57:43.841Z"
      },
      {
        "duration": 494,
        "start_time": "2023-07-17T19:57:44.192Z"
      },
      {
        "duration": 372,
        "start_time": "2023-07-17T19:57:44.688Z"
      },
      {
        "duration": 107,
        "start_time": "2023-07-17T19:57:45.062Z"
      },
      {
        "duration": 235,
        "start_time": "2023-07-17T19:57:45.170Z"
      },
      {
        "duration": 2167,
        "start_time": "2023-07-17T19:57:45.408Z"
      },
      {
        "duration": 21,
        "start_time": "2023-07-17T19:57:47.577Z"
      },
      {
        "duration": 1233,
        "start_time": "2023-07-17T20:41:58.400Z"
      },
      {
        "duration": 10,
        "start_time": "2023-07-17T20:41:59.636Z"
      },
      {
        "duration": 185,
        "start_time": "2023-07-17T20:41:59.648Z"
      },
      {
        "duration": 16,
        "start_time": "2023-07-17T20:41:59.835Z"
      },
      {
        "duration": 20,
        "start_time": "2023-07-17T20:41:59.853Z"
      },
      {
        "duration": 3,
        "start_time": "2023-07-17T20:41:59.875Z"
      },
      {
        "duration": 7,
        "start_time": "2023-07-17T20:41:59.880Z"
      },
      {
        "duration": 22,
        "start_time": "2023-07-17T20:41:59.888Z"
      },
      {
        "duration": 11,
        "start_time": "2023-07-17T20:41:59.911Z"
      },
      {
        "duration": 4,
        "start_time": "2023-07-17T20:41:59.925Z"
      },
      {
        "duration": 8,
        "start_time": "2023-07-17T20:41:59.931Z"
      },
      {
        "duration": 30,
        "start_time": "2023-07-17T20:41:59.940Z"
      },
      {
        "duration": 14,
        "start_time": "2023-07-17T20:41:59.972Z"
      },
      {
        "duration": 73,
        "start_time": "2023-07-17T20:41:59.988Z"
      },
      {
        "duration": 47,
        "start_time": "2023-07-17T20:42:00.063Z"
      },
      {
        "duration": 29,
        "start_time": "2023-07-17T20:42:00.112Z"
      },
      {
        "duration": 54,
        "start_time": "2023-07-17T20:42:00.142Z"
      },
      {
        "duration": 22,
        "start_time": "2023-07-17T20:42:00.197Z"
      },
      {
        "duration": 36,
        "start_time": "2023-07-17T20:42:00.221Z"
      },
      {
        "duration": 29,
        "start_time": "2023-07-17T20:42:00.258Z"
      },
      {
        "duration": 52,
        "start_time": "2023-07-17T20:42:00.289Z"
      },
      {
        "duration": 40,
        "start_time": "2023-07-17T20:42:00.343Z"
      },
      {
        "duration": 8,
        "start_time": "2023-07-17T20:42:00.385Z"
      },
      {
        "duration": 559,
        "start_time": "2023-07-17T20:42:00.394Z"
      },
      {
        "duration": 10,
        "start_time": "2023-07-17T20:42:00.955Z"
      },
      {
        "duration": 46,
        "start_time": "2023-07-17T20:42:00.967Z"
      },
      {
        "duration": 368,
        "start_time": "2023-07-17T20:42:01.016Z"
      },
      {
        "duration": 486,
        "start_time": "2023-07-17T20:42:01.387Z"
      },
      {
        "duration": 334,
        "start_time": "2023-07-17T20:42:01.875Z"
      },
      {
        "duration": 92,
        "start_time": "2023-07-17T20:42:02.210Z"
      },
      {
        "duration": 249,
        "start_time": "2023-07-17T20:42:02.304Z"
      },
      {
        "duration": 1878,
        "start_time": "2023-07-17T20:42:02.559Z"
      },
      {
        "duration": 28,
        "start_time": "2023-07-17T20:42:04.439Z"
      },
      {
        "duration": 1324,
        "start_time": "2023-07-22T18:38:59.955Z"
      },
      {
        "duration": 7,
        "start_time": "2023-07-22T18:39:01.281Z"
      },
      {
        "duration": 167,
        "start_time": "2023-07-22T18:39:01.289Z"
      },
      {
        "duration": 15,
        "start_time": "2023-07-22T18:39:01.458Z"
      },
      {
        "duration": 50,
        "start_time": "2023-07-22T18:39:01.474Z"
      },
      {
        "duration": 47,
        "start_time": "2023-07-22T18:39:01.525Z"
      },
      {
        "duration": 59,
        "start_time": "2023-07-22T18:39:01.574Z"
      },
      {
        "duration": 38,
        "start_time": "2023-07-22T18:39:01.634Z"
      },
      {
        "duration": 53,
        "start_time": "2023-07-22T18:39:01.673Z"
      },
      {
        "duration": 44,
        "start_time": "2023-07-22T18:39:01.728Z"
      },
      {
        "duration": 77,
        "start_time": "2023-07-22T18:39:01.774Z"
      },
      {
        "duration": 36,
        "start_time": "2023-07-22T18:39:01.852Z"
      },
      {
        "duration": 62,
        "start_time": "2023-07-22T18:39:01.889Z"
      },
      {
        "duration": 44,
        "start_time": "2023-07-22T18:39:01.953Z"
      },
      {
        "duration": 115,
        "start_time": "2023-07-22T18:39:08.885Z"
      },
      {
        "duration": 8,
        "start_time": "2023-07-22T18:41:41.633Z"
      },
      {
        "duration": 7,
        "start_time": "2023-07-22T18:41:43.794Z"
      },
      {
        "duration": 6,
        "start_time": "2023-07-22T18:43:26.341Z"
      },
      {
        "duration": 4,
        "start_time": "2023-07-22T18:43:33.794Z"
      },
      {
        "duration": 10,
        "start_time": "2023-07-22T18:43:49.844Z"
      },
      {
        "duration": 5,
        "start_time": "2023-07-22T18:44:55.870Z"
      },
      {
        "duration": 9,
        "start_time": "2023-07-22T18:44:57.994Z"
      },
      {
        "duration": 12,
        "start_time": "2023-07-22T18:46:59.458Z"
      },
      {
        "duration": 1142,
        "start_time": "2023-07-22T18:47:07.051Z"
      },
      {
        "duration": 6,
        "start_time": "2023-07-22T18:47:08.195Z"
      },
      {
        "duration": 182,
        "start_time": "2023-07-22T18:47:08.203Z"
      },
      {
        "duration": 15,
        "start_time": "2023-07-22T18:47:08.386Z"
      },
      {
        "duration": 35,
        "start_time": "2023-07-22T18:47:08.402Z"
      },
      {
        "duration": 15,
        "start_time": "2023-07-22T18:47:08.439Z"
      },
      {
        "duration": 26,
        "start_time": "2023-07-22T18:47:08.456Z"
      },
      {
        "duration": 20,
        "start_time": "2023-07-22T18:47:08.483Z"
      },
      {
        "duration": 31,
        "start_time": "2023-07-22T18:47:08.504Z"
      },
      {
        "duration": 4,
        "start_time": "2023-07-22T18:47:08.541Z"
      },
      {
        "duration": 8,
        "start_time": "2023-07-22T18:47:08.547Z"
      },
      {
        "duration": 4,
        "start_time": "2023-07-22T18:47:08.556Z"
      },
      {
        "duration": 5,
        "start_time": "2023-07-22T18:47:08.561Z"
      },
      {
        "duration": 14,
        "start_time": "2023-07-22T18:47:08.567Z"
      },
      {
        "duration": 12,
        "start_time": "2023-07-22T18:47:08.582Z"
      },
      {
        "duration": 29,
        "start_time": "2023-07-22T18:47:08.595Z"
      },
      {
        "duration": 49,
        "start_time": "2023-07-22T18:47:08.625Z"
      },
      {
        "duration": 11,
        "start_time": "2023-07-22T18:47:08.675Z"
      },
      {
        "duration": 3,
        "start_time": "2023-07-22T18:47:08.688Z"
      },
      {
        "duration": 8,
        "start_time": "2023-07-22T18:47:08.693Z"
      },
      {
        "duration": 24,
        "start_time": "2023-07-22T18:47:08.702Z"
      },
      {
        "duration": 104,
        "start_time": "2023-07-22T18:47:10.899Z"
      },
      {
        "duration": 5,
        "start_time": "2023-07-22T18:47:24.842Z"
      },
      {
        "duration": 17,
        "start_time": "2023-07-22T18:49:40.948Z"
      },
      {
        "duration": 102,
        "start_time": "2023-07-22T18:52:04.059Z"
      },
      {
        "duration": 16,
        "start_time": "2023-07-22T18:52:07.384Z"
      },
      {
        "duration": 17,
        "start_time": "2023-07-22T18:52:27.841Z"
      },
      {
        "duration": 20,
        "start_time": "2023-07-22T18:52:54.631Z"
      },
      {
        "duration": 12,
        "start_time": "2023-07-22T18:52:59.402Z"
      },
      {
        "duration": 87,
        "start_time": "2023-07-22T18:53:24.504Z"
      },
      {
        "duration": 10,
        "start_time": "2023-07-22T18:54:06.966Z"
      },
      {
        "duration": 9,
        "start_time": "2023-07-22T18:54:15.234Z"
      },
      {
        "duration": 13,
        "start_time": "2023-07-22T18:54:45.955Z"
      },
      {
        "duration": 51,
        "start_time": "2023-07-22T18:55:04.504Z"
      },
      {
        "duration": 10,
        "start_time": "2023-07-22T18:56:17.735Z"
      },
      {
        "duration": 8,
        "start_time": "2023-07-22T18:56:39.034Z"
      },
      {
        "duration": 11,
        "start_time": "2023-07-22T18:56:54.400Z"
      },
      {
        "duration": 14,
        "start_time": "2023-07-22T18:57:15.345Z"
      },
      {
        "duration": 25,
        "start_time": "2023-07-22T18:57:22.795Z"
      },
      {
        "duration": 8,
        "start_time": "2023-07-22T19:00:24.703Z"
      },
      {
        "duration": 9,
        "start_time": "2023-07-22T19:00:27.429Z"
      },
      {
        "duration": 13,
        "start_time": "2023-07-22T19:00:30.862Z"
      },
      {
        "duration": 6,
        "start_time": "2023-07-22T19:00:38.521Z"
      },
      {
        "duration": 1040,
        "start_time": "2023-07-22T19:00:41.831Z"
      },
      {
        "duration": 1194,
        "start_time": "2023-07-22T19:01:16.420Z"
      },
      {
        "duration": 18,
        "start_time": "2023-07-22T19:01:17.620Z"
      },
      {
        "duration": 147,
        "start_time": "2023-07-22T19:01:17.640Z"
      },
      {
        "duration": 17,
        "start_time": "2023-07-22T19:01:17.789Z"
      },
      {
        "duration": 23,
        "start_time": "2023-07-22T19:01:17.816Z"
      },
      {
        "duration": 3,
        "start_time": "2023-07-22T19:01:17.841Z"
      },
      {
        "duration": 13,
        "start_time": "2023-07-22T19:01:17.845Z"
      },
      {
        "duration": 18,
        "start_time": "2023-07-22T19:01:17.860Z"
      },
      {
        "duration": 18,
        "start_time": "2023-07-22T19:01:17.879Z"
      },
      {
        "duration": 14,
        "start_time": "2023-07-22T19:01:17.899Z"
      },
      {
        "duration": 12,
        "start_time": "2023-07-22T19:01:17.914Z"
      },
      {
        "duration": 9,
        "start_time": "2023-07-22T19:01:17.930Z"
      },
      {
        "duration": 6,
        "start_time": "2023-07-22T19:01:17.941Z"
      },
      {
        "duration": 13,
        "start_time": "2023-07-22T19:01:17.949Z"
      },
      {
        "duration": 7,
        "start_time": "2023-07-22T19:01:20.739Z"
      },
      {
        "duration": 9,
        "start_time": "2023-07-22T19:01:23.128Z"
      },
      {
        "duration": 12,
        "start_time": "2023-07-22T19:01:34.246Z"
      },
      {
        "duration": 104,
        "start_time": "2023-07-22T19:01:57.661Z"
      },
      {
        "duration": 10,
        "start_time": "2023-07-22T19:02:02.906Z"
      },
      {
        "duration": 16,
        "start_time": "2023-07-22T19:02:04.106Z"
      },
      {
        "duration": 16,
        "start_time": "2023-07-22T19:02:19.133Z"
      },
      {
        "duration": 22,
        "start_time": "2023-07-22T19:02:53.918Z"
      },
      {
        "duration": 12,
        "start_time": "2023-07-22T19:02:59.554Z"
      },
      {
        "duration": 14,
        "start_time": "2023-07-22T19:03:59.342Z"
      },
      {
        "duration": 1285,
        "start_time": "2023-07-22T19:04:07.562Z"
      },
      {
        "duration": 6,
        "start_time": "2023-07-22T19:04:08.849Z"
      },
      {
        "duration": 178,
        "start_time": "2023-07-22T19:04:08.856Z"
      },
      {
        "duration": 15,
        "start_time": "2023-07-22T19:04:09.038Z"
      },
      {
        "duration": 13,
        "start_time": "2023-07-22T19:04:09.055Z"
      },
      {
        "duration": 16,
        "start_time": "2023-07-22T19:04:09.069Z"
      },
      {
        "duration": 8,
        "start_time": "2023-07-22T19:04:09.086Z"
      },
      {
        "duration": 7,
        "start_time": "2023-07-22T19:04:09.095Z"
      },
      {
        "duration": 18,
        "start_time": "2023-07-22T19:04:09.103Z"
      },
      {
        "duration": 7,
        "start_time": "2023-07-22T19:04:09.125Z"
      },
      {
        "duration": 14,
        "start_time": "2023-07-22T19:04:09.136Z"
      },
      {
        "duration": 5,
        "start_time": "2023-07-22T19:04:09.151Z"
      },
      {
        "duration": 5,
        "start_time": "2023-07-22T19:04:09.158Z"
      },
      {
        "duration": 5,
        "start_time": "2023-07-22T19:04:09.166Z"
      },
      {
        "duration": 126,
        "start_time": "2023-07-22T19:04:11.028Z"
      },
      {
        "duration": 4,
        "start_time": "2023-07-22T19:04:40.343Z"
      },
      {
        "duration": 11,
        "start_time": "2023-07-22T19:04:42.619Z"
      },
      {
        "duration": 11,
        "start_time": "2023-07-22T19:04:47.259Z"
      },
      {
        "duration": 13,
        "start_time": "2023-07-22T19:04:53.734Z"
      },
      {
        "duration": 21,
        "start_time": "2023-07-22T19:04:55.706Z"
      },
      {
        "duration": 7,
        "start_time": "2023-07-22T19:05:59.635Z"
      },
      {
        "duration": 10,
        "start_time": "2023-07-22T19:06:01.025Z"
      },
      {
        "duration": 12,
        "start_time": "2023-07-22T19:06:04.334Z"
      },
      {
        "duration": 11,
        "start_time": "2023-07-22T19:06:18.261Z"
      },
      {
        "duration": 11,
        "start_time": "2023-07-22T19:06:20.840Z"
      },
      {
        "duration": 1213,
        "start_time": "2023-07-22T19:06:55.369Z"
      },
      {
        "duration": 10,
        "start_time": "2023-07-22T19:06:56.584Z"
      },
      {
        "duration": 193,
        "start_time": "2023-07-22T19:06:56.596Z"
      },
      {
        "duration": 25,
        "start_time": "2023-07-22T19:06:56.792Z"
      },
      {
        "duration": 23,
        "start_time": "2023-07-22T19:06:56.819Z"
      },
      {
        "duration": 7,
        "start_time": "2023-07-22T19:06:56.844Z"
      },
      {
        "duration": 5,
        "start_time": "2023-07-22T19:06:56.858Z"
      },
      {
        "duration": 9,
        "start_time": "2023-07-22T19:06:56.864Z"
      },
      {
        "duration": 16,
        "start_time": "2023-07-22T19:06:56.874Z"
      },
      {
        "duration": 4,
        "start_time": "2023-07-22T19:06:56.892Z"
      },
      {
        "duration": 22,
        "start_time": "2023-07-22T19:06:56.898Z"
      },
      {
        "duration": 12,
        "start_time": "2023-07-22T19:06:56.921Z"
      },
      {
        "duration": 7,
        "start_time": "2023-07-22T19:06:56.934Z"
      },
      {
        "duration": 11,
        "start_time": "2023-07-22T19:06:56.943Z"
      },
      {
        "duration": 9,
        "start_time": "2023-07-22T19:06:56.956Z"
      },
      {
        "duration": 14,
        "start_time": "2023-07-22T19:06:56.966Z"
      },
      {
        "duration": 6,
        "start_time": "2023-07-22T19:06:56.982Z"
      },
      {
        "duration": 45,
        "start_time": "2023-07-22T19:06:56.989Z"
      },
      {
        "duration": 13,
        "start_time": "2023-07-22T19:06:57.036Z"
      },
      {
        "duration": 11,
        "start_time": "2023-07-22T19:06:57.051Z"
      },
      {
        "duration": 7,
        "start_time": "2023-07-22T19:06:57.064Z"
      },
      {
        "duration": 8,
        "start_time": "2023-07-22T19:06:57.072Z"
      },
      {
        "duration": 7,
        "start_time": "2023-07-22T19:06:57.082Z"
      },
      {
        "duration": 26,
        "start_time": "2023-07-22T19:06:57.090Z"
      },
      {
        "duration": 19,
        "start_time": "2023-07-22T19:06:57.117Z"
      },
      {
        "duration": 21,
        "start_time": "2023-07-22T19:06:58.819Z"
      },
      {
        "duration": 230,
        "start_time": "2023-07-22T19:11:17.724Z"
      },
      {
        "duration": 5,
        "start_time": "2023-07-22T19:16:40.897Z"
      },
      {
        "duration": 10,
        "start_time": "2023-07-22T19:16:43.332Z"
      },
      {
        "duration": 7,
        "start_time": "2023-07-22T19:17:14.575Z"
      },
      {
        "duration": 6,
        "start_time": "2023-07-22T19:17:17.203Z"
      },
      {
        "duration": 253,
        "start_time": "2023-07-22T19:17:54.240Z"
      },
      {
        "duration": 328,
        "start_time": "2023-07-22T19:18:48.838Z"
      },
      {
        "duration": 336,
        "start_time": "2023-07-22T19:19:14.732Z"
      },
      {
        "duration": 414,
        "start_time": "2023-07-22T19:20:53.028Z"
      },
      {
        "duration": 424,
        "start_time": "2023-07-22T19:21:22.273Z"
      },
      {
        "duration": 460,
        "start_time": "2023-07-22T19:21:27.538Z"
      },
      {
        "duration": 1963,
        "start_time": "2023-07-22T19:27:29.979Z"
      },
      {
        "duration": 1839,
        "start_time": "2023-07-22T19:30:41.030Z"
      },
      {
        "duration": 52,
        "start_time": "2023-07-22T19:32:29.315Z"
      },
      {
        "duration": 2106,
        "start_time": "2023-07-22T19:32:51.616Z"
      },
      {
        "duration": 225,
        "start_time": "2023-07-22T19:41:06.105Z"
      },
      {
        "duration": 199,
        "start_time": "2023-07-22T19:41:11.551Z"
      },
      {
        "duration": 203,
        "start_time": "2023-07-22T19:41:14.432Z"
      },
      {
        "duration": 287,
        "start_time": "2023-07-22T19:41:19.435Z"
      },
      {
        "duration": 187,
        "start_time": "2023-07-22T19:45:46.615Z"
      },
      {
        "duration": 207,
        "start_time": "2023-07-22T19:45:51.403Z"
      },
      {
        "duration": 200,
        "start_time": "2023-07-22T19:45:56.423Z"
      },
      {
        "duration": 195,
        "start_time": "2023-07-22T19:49:29.932Z"
      },
      {
        "duration": 193,
        "start_time": "2023-07-22T19:49:34.402Z"
      },
      {
        "duration": 198,
        "start_time": "2023-07-22T19:49:37.844Z"
      },
      {
        "duration": 194,
        "start_time": "2023-07-22T19:49:40.845Z"
      },
      {
        "duration": 267,
        "start_time": "2023-07-22T19:51:01.422Z"
      },
      {
        "duration": 362,
        "start_time": "2023-07-22T19:51:55.328Z"
      },
      {
        "duration": 263,
        "start_time": "2023-07-22T19:51:58.524Z"
      },
      {
        "duration": 291,
        "start_time": "2023-07-22T19:52:06.112Z"
      },
      {
        "duration": 1558,
        "start_time": "2023-07-22T19:52:30.827Z"
      },
      {
        "duration": 95,
        "start_time": "2023-07-22T19:53:59.449Z"
      },
      {
        "duration": 47,
        "start_time": "2023-07-22T19:54:29.418Z"
      },
      {
        "duration": 280,
        "start_time": "2023-07-22T19:55:17.977Z"
      },
      {
        "duration": 1217,
        "start_time": "2023-07-22T20:35:33.099Z"
      },
      {
        "duration": 20,
        "start_time": "2023-07-22T20:35:34.318Z"
      },
      {
        "duration": 144,
        "start_time": "2023-07-22T20:35:34.343Z"
      },
      {
        "duration": 14,
        "start_time": "2023-07-22T20:35:34.489Z"
      },
      {
        "duration": 32,
        "start_time": "2023-07-22T20:35:34.504Z"
      },
      {
        "duration": 3,
        "start_time": "2023-07-22T20:35:34.537Z"
      },
      {
        "duration": 14,
        "start_time": "2023-07-22T20:35:34.542Z"
      },
      {
        "duration": 10,
        "start_time": "2023-07-22T20:35:34.557Z"
      },
      {
        "duration": 17,
        "start_time": "2023-07-22T20:35:34.568Z"
      },
      {
        "duration": 8,
        "start_time": "2023-07-22T20:35:34.587Z"
      },
      {
        "duration": 26,
        "start_time": "2023-07-22T20:35:34.597Z"
      },
      {
        "duration": 12,
        "start_time": "2023-07-22T20:35:34.628Z"
      },
      {
        "duration": 6,
        "start_time": "2023-07-22T20:35:34.642Z"
      },
      {
        "duration": 5,
        "start_time": "2023-07-22T20:35:34.650Z"
      },
      {
        "duration": 21,
        "start_time": "2023-07-22T20:35:34.657Z"
      },
      {
        "duration": 8,
        "start_time": "2023-07-22T20:35:34.680Z"
      },
      {
        "duration": 29,
        "start_time": "2023-07-22T20:35:34.689Z"
      },
      {
        "duration": 40,
        "start_time": "2023-07-22T20:35:34.720Z"
      },
      {
        "duration": 12,
        "start_time": "2023-07-22T20:35:34.761Z"
      },
      {
        "duration": 4,
        "start_time": "2023-07-22T20:35:34.774Z"
      },
      {
        "duration": 6,
        "start_time": "2023-07-22T20:35:34.779Z"
      },
      {
        "duration": 21,
        "start_time": "2023-07-22T20:35:34.786Z"
      },
      {
        "duration": 11,
        "start_time": "2023-07-22T20:35:34.813Z"
      },
      {
        "duration": 19,
        "start_time": "2023-07-22T20:35:34.825Z"
      },
      {
        "duration": 10,
        "start_time": "2023-07-22T20:35:34.846Z"
      },
      {
        "duration": 11,
        "start_time": "2023-07-22T20:35:34.858Z"
      },
      {
        "duration": 191,
        "start_time": "2023-07-22T20:35:34.871Z"
      },
      {
        "duration": 464,
        "start_time": "2023-07-22T20:35:35.065Z"
      },
      {
        "duration": 11,
        "start_time": "2023-07-22T20:35:35.530Z"
      },
      {
        "duration": 9,
        "start_time": "2023-07-22T20:35:35.543Z"
      },
      {
        "duration": 263,
        "start_time": "2023-07-22T20:35:35.554Z"
      },
      {
        "duration": 346,
        "start_time": "2023-07-22T20:35:35.820Z"
      },
      {
        "duration": 422,
        "start_time": "2023-07-22T20:35:36.168Z"
      },
      {
        "duration": 254,
        "start_time": "2023-07-22T20:35:36.592Z"
      },
      {
        "duration": 1795,
        "start_time": "2023-07-22T20:35:36.847Z"
      },
      {
        "duration": 208,
        "start_time": "2023-07-22T20:35:38.646Z"
      },
      {
        "duration": 218,
        "start_time": "2023-07-22T20:35:38.856Z"
      },
      {
        "duration": 294,
        "start_time": "2023-07-22T20:35:39.076Z"
      },
      {
        "duration": 315,
        "start_time": "2023-07-22T20:35:39.371Z"
      },
      {
        "duration": 1653,
        "start_time": "2023-07-22T20:35:42.033Z"
      },
      {
        "duration": 3,
        "start_time": "2023-07-22T20:39:54.647Z"
      },
      {
        "duration": 8,
        "start_time": "2023-07-22T20:40:13.966Z"
      },
      {
        "duration": 8,
        "start_time": "2023-07-22T20:40:15.495Z"
      },
      {
        "duration": 1181,
        "start_time": "2023-07-22T20:41:04.534Z"
      },
      {
        "duration": 18,
        "start_time": "2023-07-22T20:41:05.720Z"
      },
      {
        "duration": 183,
        "start_time": "2023-07-22T20:41:05.742Z"
      },
      {
        "duration": 21,
        "start_time": "2023-07-22T20:41:05.927Z"
      },
      {
        "duration": 18,
        "start_time": "2023-07-22T20:41:05.951Z"
      },
      {
        "duration": 12,
        "start_time": "2023-07-22T20:41:05.970Z"
      },
      {
        "duration": 13,
        "start_time": "2023-07-22T20:41:05.984Z"
      },
      {
        "duration": 14,
        "start_time": "2023-07-22T20:41:05.998Z"
      },
      {
        "duration": 26,
        "start_time": "2023-07-22T20:41:06.016Z"
      },
      {
        "duration": 30,
        "start_time": "2023-07-22T20:41:06.044Z"
      },
      {
        "duration": 23,
        "start_time": "2023-07-22T20:41:06.076Z"
      },
      {
        "duration": 23,
        "start_time": "2023-07-22T20:41:06.100Z"
      },
      {
        "duration": 23,
        "start_time": "2023-07-22T20:41:06.128Z"
      },
      {
        "duration": 5,
        "start_time": "2023-07-22T20:41:06.154Z"
      },
      {
        "duration": 19,
        "start_time": "2023-07-22T20:41:06.160Z"
      },
      {
        "duration": 15,
        "start_time": "2023-07-22T20:41:06.181Z"
      },
      {
        "duration": 29,
        "start_time": "2023-07-22T20:41:06.197Z"
      },
      {
        "duration": 62,
        "start_time": "2023-07-22T20:41:06.236Z"
      },
      {
        "duration": 16,
        "start_time": "2023-07-22T20:41:06.300Z"
      },
      {
        "duration": 7,
        "start_time": "2023-07-22T20:41:06.317Z"
      },
      {
        "duration": 20,
        "start_time": "2023-07-22T20:41:06.325Z"
      },
      {
        "duration": 10,
        "start_time": "2023-07-22T20:41:06.346Z"
      },
      {
        "duration": 31,
        "start_time": "2023-07-22T20:41:06.357Z"
      },
      {
        "duration": 37,
        "start_time": "2023-07-22T20:41:06.390Z"
      },
      {
        "duration": 33,
        "start_time": "2023-07-22T20:41:06.432Z"
      },
      {
        "duration": 17,
        "start_time": "2023-07-22T20:41:06.467Z"
      },
      {
        "duration": 203,
        "start_time": "2023-07-22T20:41:06.486Z"
      },
      {
        "duration": 489,
        "start_time": "2023-07-22T20:41:06.690Z"
      },
      {
        "duration": 9,
        "start_time": "2023-07-22T20:41:07.181Z"
      },
      {
        "duration": 46,
        "start_time": "2023-07-22T20:41:07.191Z"
      },
      {
        "duration": 304,
        "start_time": "2023-07-22T20:41:07.238Z"
      },
      {
        "duration": 381,
        "start_time": "2023-07-22T20:41:07.544Z"
      },
      {
        "duration": 438,
        "start_time": "2023-07-22T20:41:07.927Z"
      },
      {
        "duration": 286,
        "start_time": "2023-07-22T20:41:08.367Z"
      },
      {
        "duration": 1919,
        "start_time": "2023-07-22T20:41:08.656Z"
      },
      {
        "duration": 210,
        "start_time": "2023-07-22T20:41:10.577Z"
      },
      {
        "duration": 226,
        "start_time": "2023-07-22T20:41:10.789Z"
      },
      {
        "duration": 301,
        "start_time": "2023-07-22T20:41:11.018Z"
      },
      {
        "duration": 300,
        "start_time": "2023-07-22T20:41:11.320Z"
      },
      {
        "duration": 1660,
        "start_time": "2023-07-22T20:41:11.622Z"
      },
      {
        "duration": 8,
        "start_time": "2023-07-22T20:41:16.158Z"
      },
      {
        "duration": 13,
        "start_time": "2023-07-22T20:42:41.121Z"
      },
      {
        "duration": 11,
        "start_time": "2023-07-22T20:44:01.165Z"
      },
      {
        "duration": 10,
        "start_time": "2023-07-22T20:44:18.934Z"
      },
      {
        "duration": 13,
        "start_time": "2023-07-22T20:44:54.427Z"
      },
      {
        "duration": 11,
        "start_time": "2023-07-22T20:44:56.419Z"
      },
      {
        "duration": 1147,
        "start_time": "2023-07-22T21:04:22.650Z"
      },
      {
        "duration": 17,
        "start_time": "2023-07-22T21:04:23.798Z"
      },
      {
        "duration": 184,
        "start_time": "2023-07-22T21:04:23.820Z"
      },
      {
        "duration": 22,
        "start_time": "2023-07-22T21:04:24.006Z"
      },
      {
        "duration": 29,
        "start_time": "2023-07-22T21:04:24.032Z"
      },
      {
        "duration": 3,
        "start_time": "2023-07-22T21:04:24.063Z"
      },
      {
        "duration": 10,
        "start_time": "2023-07-22T21:04:24.068Z"
      },
      {
        "duration": 8,
        "start_time": "2023-07-22T21:04:24.080Z"
      },
      {
        "duration": 13,
        "start_time": "2023-07-22T21:04:24.089Z"
      },
      {
        "duration": 20,
        "start_time": "2023-07-22T21:04:24.112Z"
      },
      {
        "duration": 7,
        "start_time": "2023-07-22T21:04:24.138Z"
      },
      {
        "duration": 7,
        "start_time": "2023-07-22T21:04:24.147Z"
      },
      {
        "duration": 11,
        "start_time": "2023-07-22T21:04:24.156Z"
      },
      {
        "duration": 6,
        "start_time": "2023-07-22T21:04:24.170Z"
      },
      {
        "duration": 27,
        "start_time": "2023-07-22T21:04:24.177Z"
      },
      {
        "duration": 23,
        "start_time": "2023-07-22T21:04:24.206Z"
      },
      {
        "duration": 19,
        "start_time": "2023-07-22T21:04:24.232Z"
      },
      {
        "duration": 39,
        "start_time": "2023-07-22T21:04:24.253Z"
      },
      {
        "duration": 24,
        "start_time": "2023-07-22T21:04:24.295Z"
      },
      {
        "duration": 10,
        "start_time": "2023-07-22T21:04:24.322Z"
      },
      {
        "duration": 11,
        "start_time": "2023-07-22T21:04:24.336Z"
      },
      {
        "duration": 8,
        "start_time": "2023-07-22T21:04:24.348Z"
      },
      {
        "duration": 15,
        "start_time": "2023-07-22T21:04:24.358Z"
      },
      {
        "duration": 23,
        "start_time": "2023-07-22T21:04:24.374Z"
      },
      {
        "duration": 18,
        "start_time": "2023-07-22T21:04:24.398Z"
      },
      {
        "duration": 16,
        "start_time": "2023-07-22T21:04:24.418Z"
      },
      {
        "duration": 222,
        "start_time": "2023-07-22T21:04:24.436Z"
      },
      {
        "duration": 531,
        "start_time": "2023-07-22T21:04:24.660Z"
      },
      {
        "duration": 28,
        "start_time": "2023-07-22T21:04:25.194Z"
      },
      {
        "duration": 14,
        "start_time": "2023-07-22T21:04:25.224Z"
      },
      {
        "duration": 290,
        "start_time": "2023-07-22T21:04:25.239Z"
      },
      {
        "duration": 350,
        "start_time": "2023-07-22T21:04:25.536Z"
      },
      {
        "duration": 441,
        "start_time": "2023-07-22T21:04:25.888Z"
      },
      {
        "duration": 251,
        "start_time": "2023-07-22T21:04:26.338Z"
      },
      {
        "duration": 1836,
        "start_time": "2023-07-22T21:04:26.591Z"
      },
      {
        "duration": 212,
        "start_time": "2023-07-22T21:04:28.428Z"
      },
      {
        "duration": 208,
        "start_time": "2023-07-22T21:04:28.645Z"
      },
      {
        "duration": 296,
        "start_time": "2023-07-22T21:04:28.855Z"
      },
      {
        "duration": 297,
        "start_time": "2023-07-22T21:04:29.152Z"
      },
      {
        "duration": 1541,
        "start_time": "2023-07-22T21:04:29.451Z"
      },
      {
        "duration": 29,
        "start_time": "2023-07-22T21:04:30.995Z"
      },
      {
        "duration": 53,
        "start_time": "2023-07-22T21:04:31.028Z"
      },
      {
        "duration": 1193,
        "start_time": "2023-07-23T10:14:42.334Z"
      },
      {
        "duration": 8,
        "start_time": "2023-07-23T10:14:43.529Z"
      },
      {
        "duration": 160,
        "start_time": "2023-07-23T10:14:43.538Z"
      },
      {
        "duration": 18,
        "start_time": "2023-07-23T10:14:43.699Z"
      },
      {
        "duration": 20,
        "start_time": "2023-07-23T10:14:43.719Z"
      },
      {
        "duration": 6,
        "start_time": "2023-07-23T10:14:43.740Z"
      },
      {
        "duration": 5,
        "start_time": "2023-07-23T10:14:43.747Z"
      },
      {
        "duration": 6,
        "start_time": "2023-07-23T10:14:43.753Z"
      },
      {
        "duration": 13,
        "start_time": "2023-07-23T10:14:43.761Z"
      },
      {
        "duration": 16,
        "start_time": "2023-07-23T10:14:43.775Z"
      },
      {
        "duration": 32,
        "start_time": "2023-07-23T10:14:43.793Z"
      },
      {
        "duration": 7,
        "start_time": "2023-07-23T10:14:43.827Z"
      },
      {
        "duration": 5,
        "start_time": "2023-07-23T10:14:43.836Z"
      },
      {
        "duration": 15,
        "start_time": "2023-07-23T10:14:43.844Z"
      },
      {
        "duration": 7,
        "start_time": "2023-07-23T10:14:43.860Z"
      },
      {
        "duration": 10,
        "start_time": "2023-07-23T10:14:43.868Z"
      },
      {
        "duration": 6,
        "start_time": "2023-07-23T10:14:43.879Z"
      },
      {
        "duration": 50,
        "start_time": "2023-07-23T10:14:43.886Z"
      },
      {
        "duration": 15,
        "start_time": "2023-07-23T10:14:43.938Z"
      },
      {
        "duration": 4,
        "start_time": "2023-07-23T10:14:43.956Z"
      },
      {
        "duration": 8,
        "start_time": "2023-07-23T10:14:43.961Z"
      },
      {
        "duration": 14,
        "start_time": "2023-07-23T10:14:43.971Z"
      },
      {
        "duration": 6,
        "start_time": "2023-07-23T10:14:43.986Z"
      },
      {
        "duration": 28,
        "start_time": "2023-07-23T10:14:43.994Z"
      },
      {
        "duration": 10,
        "start_time": "2023-07-23T10:14:44.029Z"
      },
      {
        "duration": 15,
        "start_time": "2023-07-23T10:14:44.040Z"
      },
      {
        "duration": 188,
        "start_time": "2023-07-23T10:14:44.057Z"
      },
      {
        "duration": 448,
        "start_time": "2023-07-23T10:14:44.246Z"
      },
      {
        "duration": 15,
        "start_time": "2023-07-23T10:14:44.696Z"
      },
      {
        "duration": 48,
        "start_time": "2023-07-23T10:14:44.718Z"
      },
      {
        "duration": 244,
        "start_time": "2023-07-23T10:14:44.768Z"
      },
      {
        "duration": 363,
        "start_time": "2023-07-23T10:14:45.013Z"
      },
      {
        "duration": 427,
        "start_time": "2023-07-23T10:14:45.378Z"
      },
      {
        "duration": 258,
        "start_time": "2023-07-23T10:14:45.812Z"
      },
      {
        "duration": 1897,
        "start_time": "2023-07-23T10:14:46.071Z"
      },
      {
        "duration": 224,
        "start_time": "2023-07-23T10:14:47.970Z"
      },
      {
        "duration": 226,
        "start_time": "2023-07-23T10:14:48.195Z"
      },
      {
        "duration": 269,
        "start_time": "2023-07-23T10:14:48.422Z"
      },
      {
        "duration": 320,
        "start_time": "2023-07-23T10:14:48.693Z"
      },
      {
        "duration": 1551,
        "start_time": "2023-07-23T10:14:49.015Z"
      },
      {
        "duration": 9,
        "start_time": "2023-07-23T10:14:50.569Z"
      },
      {
        "duration": 20,
        "start_time": "2023-07-23T10:14:50.580Z"
      }
    ],
    "kernelspec": {
      "display_name": "Python 3 (ipykernel)",
      "language": "python",
      "name": "python3"
    },
    "language_info": {
      "codemirror_mode": {
        "name": "ipython",
        "version": 3
      },
      "file_extension": ".py",
      "mimetype": "text/x-python",
      "name": "python",
      "nbconvert_exporter": "python",
      "pygments_lexer": "ipython3",
      "version": "3.9.5"
    },
    "toc": {
      "base_numbering": 1,
      "nav_menu": {},
      "number_sections": true,
      "sideBar": true,
      "skip_h1_title": true,
      "title_cell": "Table of Contents",
      "title_sidebar": "Contents",
      "toc_cell": false,
      "toc_position": {},
      "toc_section_display": true,
      "toc_window_display": true
    },
    "colab": {
      "provenance": [],
      "include_colab_link": true
    }
  },
  "nbformat": 4,
  "nbformat_minor": 0
}